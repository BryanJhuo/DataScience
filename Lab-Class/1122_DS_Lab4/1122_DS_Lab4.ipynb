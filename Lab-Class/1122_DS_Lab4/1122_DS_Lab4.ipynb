{
 "cells": [
  {
   "cell_type": "markdown",
   "metadata": {},
   "source": [
    "# 1122_DS_Lab4 Pandas 數據分析套件"
   ]
  },
  {
   "cell_type": "code",
   "execution_count": 1,
   "metadata": {},
   "outputs": [],
   "source": [
    "import pandas as pd\n",
    "import numpy as np\n",
    "import requests"
   ]
  },
  {
   "cell_type": "markdown",
   "metadata": {},
   "source": [
    "# Pandas 主要資料結構介紹 - Series"
   ]
  },
  {
   "cell_type": "markdown",
   "metadata": {},
   "source": [
    "### Series 為附帶index的一維numpy array(ndarray)，index是可重複的。\n",
    "##### Series API Reference: https://pandas.pydata.org/pandas-docs/stable/reference/series.html"
   ]
  },
  {
   "cell_type": "markdown",
   "metadata": {},
   "source": [
    "#### Series 可儲存不同類別的資料"
   ]
  },
  {
   "cell_type": "code",
   "execution_count": 2,
   "metadata": {},
   "outputs": [
    {
     "data": {
      "text/plain": [
       "0    value1\n",
       "1       1.0\n",
       "2         3\n",
       "dtype: object"
      ]
     },
     "execution_count": 2,
     "metadata": {},
     "output_type": "execute_result"
    }
   ],
   "source": [
    "s = pd.Series(['value1', 1.0, 3])\n",
    "s"
   ]
  },
  {
   "cell_type": "code",
   "execution_count": 15,
   "metadata": {},
   "outputs": [
    {
     "data": {
      "text/plain": [
       "0    4\n",
       "1    7\n",
       "2   -5\n",
       "3    3\n",
       "dtype: int64"
      ]
     },
     "execution_count": 15,
     "metadata": {},
     "output_type": "execute_result"
    }
   ],
   "source": [
    "s = pd.Series([4, 7, -5, 3])\n",
    "s"
   ]
  },
  {
   "cell_type": "code",
   "execution_count": 16,
   "metadata": {},
   "outputs": [
    {
     "data": {
      "text/plain": [
       "array([ 4,  7, -5,  3], dtype=int64)"
      ]
     },
     "execution_count": 16,
     "metadata": {},
     "output_type": "execute_result"
    }
   ],
   "source": [
    "s.values"
   ]
  },
  {
   "cell_type": "code",
   "execution_count": 19,
   "metadata": {},
   "outputs": [
    {
     "data": {
      "text/plain": [
       "0    Value1\n",
       "1       1.0\n",
       "2         3\n",
       "dtype: object"
      ]
     },
     "execution_count": 19,
     "metadata": {},
     "output_type": "execute_result"
    }
   ],
   "source": [
    "s = pd.Series(['Value1', 1.0, 3])\n",
    "s"
   ]
  },
  {
   "cell_type": "code",
   "execution_count": 20,
   "metadata": {
    "scrolled": false
   },
   "outputs": [
    {
     "data": {
      "text/plain": [
       "0    Value1\n",
       "1       1.0\n",
       "dtype: object"
      ]
     },
     "execution_count": 20,
     "metadata": {},
     "output_type": "execute_result"
    }
   ],
   "source": [
    "s[0:2] # Get value with row index"
   ]
  },
  {
   "cell_type": "markdown",
   "metadata": {},
   "source": [
    "## Operation"
   ]
  },
  {
   "cell_type": "markdown",
   "metadata": {},
   "source": [
    "#### 兩Series的Operation(+,-,/,..)會根據相同的index計算，長度不需相同。\n",
    "#### 計算時只處理index在兩Series index交集的值，若不在交集中則為NaN"
   ]
  },
  {
   "cell_type": "code",
   "execution_count": 21,
   "metadata": {
    "scrolled": true
   },
   "outputs": [
    {
     "data": {
      "text/plain": [
       "0    1\n",
       "1    2\n",
       "2    3\n",
       "3    4\n",
       "4    5\n",
       "dtype: int64"
      ]
     },
     "execution_count": 21,
     "metadata": {},
     "output_type": "execute_result"
    }
   ],
   "source": [
    "a = pd.Series([1,2,3,4,5], index=[0,1,2,3,4])\n",
    "a"
   ]
  },
  {
   "cell_type": "code",
   "execution_count": 22,
   "metadata": {
    "scrolled": true
   },
   "outputs": [
    {
     "data": {
      "text/plain": [
       "1    1\n",
       "2    2\n",
       "3    3\n",
       "4    4\n",
       "5    5\n",
       "dtype: int64"
      ]
     },
     "execution_count": 22,
     "metadata": {},
     "output_type": "execute_result"
    }
   ],
   "source": [
    "b = pd.Series([1,2,3,4,5],index=[1,2,3,4,5])\n",
    "b"
   ]
  },
  {
   "cell_type": "code",
   "execution_count": 23,
   "metadata": {
    "scrolled": true
   },
   "outputs": [
    {
     "data": {
      "text/plain": [
       "0    NaN\n",
       "1    3.0\n",
       "2    5.0\n",
       "3    7.0\n",
       "4    9.0\n",
       "5    NaN\n",
       "dtype: float64"
      ]
     },
     "execution_count": 23,
     "metadata": {},
     "output_type": "execute_result"
    }
   ],
   "source": [
    "a+b"
   ]
  },
  {
   "cell_type": "markdown",
   "metadata": {},
   "source": [
    "#### 若是出現重複的index時則會將所有組合都計算。\n",
    "\n",
    "#### 下面的例子中 Series a 中有兩個 index 0，因此0在結果(a+b)的index中也出現了兩次，分別是2(1+1)和3(1+2)"
   ]
  },
  {
   "cell_type": "code",
   "execution_count": 25,
   "metadata": {},
   "outputs": [
    {
     "name": "stdout",
     "output_type": "stream",
     "text": [
      "0    1\n",
      "0    2\n",
      "1    3\n",
      "dtype: int64\n",
      "0    1\n",
      "1    2\n",
      "2    3\n",
      "dtype: int64\n",
      "0    2.0\n",
      "0    3.0\n",
      "1    5.0\n",
      "2    NaN\n",
      "dtype: float64\n"
     ]
    }
   ],
   "source": [
    "a = pd.Series([1,2,3], index=[0,0,1])\n",
    "b = pd.Series([1,2,3], index=[0,1,2])\n",
    "print(a)\n",
    "print(b)\n",
    "print(a+b)"
   ]
  },
  {
   "cell_type": "markdown",
   "metadata": {},
   "source": [
    "#### 若是inedx在Series a 和 b中都重複出現時，則會如下所示。\n",
    "#### index 0在 a和b中各出現了兩次，因此結果便有4個index為0的值，分別為2(1+1)、4(1+3)、3(2+1)、5(2+3)"
   ]
  },
  {
   "cell_type": "code",
   "execution_count": 27,
   "metadata": {},
   "outputs": [
    {
     "name": "stdout",
     "output_type": "stream",
     "text": [
      "0    2\n",
      "0    4\n",
      "0    3\n",
      "0    5\n",
      "1    5\n",
      "dtype: int64\n"
     ]
    }
   ],
   "source": [
    "a = pd.Series([1,2,3], index=[0,0,1])\n",
    "b = pd.Series([1,2,3], index=[0,1,0])\n",
    "print(a+b)"
   ]
  },
  {
   "cell_type": "markdown",
   "metadata": {},
   "source": [
    "# Pandas 主要資料結構介紹 - DataFrame\n",
    "### dataframe 為二維的、大小可更動的表格資料，可視為dictionary-like的Series。\n",
    "##### DataFrame API  Reference: https://pandas.pydata.org/pandas-docs/stable/reference/frame.html"
   ]
  },
  {
   "cell_type": "code",
   "execution_count": 28,
   "metadata": {},
   "outputs": [
    {
     "data": {
      "text/html": [
       "<div>\n",
       "<style scoped>\n",
       "    .dataframe tbody tr th:only-of-type {\n",
       "        vertical-align: middle;\n",
       "    }\n",
       "\n",
       "    .dataframe tbody tr th {\n",
       "        vertical-align: top;\n",
       "    }\n",
       "\n",
       "    .dataframe thead th {\n",
       "        text-align: right;\n",
       "    }\n",
       "</style>\n",
       "<table border=\"1\" class=\"dataframe\">\n",
       "  <thead>\n",
       "    <tr style=\"text-align: right;\">\n",
       "      <th></th>\n",
       "      <th>column1</th>\n",
       "      <th>column2</th>\n",
       "    </tr>\n",
       "  </thead>\n",
       "  <tbody>\n",
       "    <tr>\n",
       "      <th>0</th>\n",
       "      <td>0</td>\n",
       "      <td>4</td>\n",
       "    </tr>\n",
       "    <tr>\n",
       "      <th>1</th>\n",
       "      <td>1</td>\n",
       "      <td>5</td>\n",
       "    </tr>\n",
       "    <tr>\n",
       "      <th>2</th>\n",
       "      <td>2</td>\n",
       "      <td>6</td>\n",
       "    </tr>\n",
       "    <tr>\n",
       "      <th>3</th>\n",
       "      <td>3</td>\n",
       "      <td>7</td>\n",
       "    </tr>\n",
       "  </tbody>\n",
       "</table>\n",
       "</div>"
      ],
      "text/plain": [
       "   column1  column2\n",
       "0        0        4\n",
       "1        1        5\n",
       "2        2        6\n",
       "3        3        7"
      ]
     },
     "execution_count": 28,
     "metadata": {},
     "output_type": "execute_result"
    }
   ],
   "source": [
    "df = pd.DataFrame({'column1':[0,1,2,3], 'column2':[4,5,6,7]}, index=[0,1,2,3]) \n",
    "df"
   ]
  },
  {
   "cell_type": "code",
   "execution_count": 29,
   "metadata": {},
   "outputs": [
    {
     "data": {
      "text/plain": [
       "0    4\n",
       "1    5\n",
       "2    6\n",
       "3    7\n",
       "Name: column2, dtype: int64"
      ]
     },
     "execution_count": 29,
     "metadata": {},
     "output_type": "execute_result"
    }
   ],
   "source": [
    "df['column2']"
   ]
  },
  {
   "cell_type": "code",
   "execution_count": 32,
   "metadata": {},
   "outputs": [
    {
     "data": {
      "text/plain": [
       "0    False\n",
       "1     True\n",
       "2    False\n",
       "3    False\n",
       "Name: column2, dtype: bool"
      ]
     },
     "execution_count": 32,
     "metadata": {},
     "output_type": "execute_result"
    }
   ],
   "source": [
    "df['column2'].isin([5])  # isin() 可以判斷DataFrame、Series 以及索引是否包含傳入的指定值，返回True表示有包含。"
   ]
  },
  {
   "cell_type": "code",
   "execution_count": 33,
   "metadata": {},
   "outputs": [
    {
     "data": {
      "text/plain": [
       "0    False\n",
       "1    False\n",
       "2    False\n",
       "3    False\n",
       "Name: column2, dtype: bool"
      ]
     },
     "execution_count": 33,
     "metadata": {},
     "output_type": "execute_result"
    }
   ],
   "source": [
    "df.column2.isin(['5'])"
   ]
  },
  {
   "cell_type": "code",
   "execution_count": 36,
   "metadata": {},
   "outputs": [],
   "source": [
    "df.drop? "
   ]
  },
  {
   "cell_type": "code",
   "execution_count": 37,
   "metadata": {},
   "outputs": [
    {
     "data": {
      "text/html": [
       "<div>\n",
       "<style scoped>\n",
       "    .dataframe tbody tr th:only-of-type {\n",
       "        vertical-align: middle;\n",
       "    }\n",
       "\n",
       "    .dataframe tbody tr th {\n",
       "        vertical-align: top;\n",
       "    }\n",
       "\n",
       "    .dataframe thead th {\n",
       "        text-align: right;\n",
       "    }\n",
       "</style>\n",
       "<table border=\"1\" class=\"dataframe\">\n",
       "  <thead>\n",
       "    <tr style=\"text-align: right;\">\n",
       "      <th></th>\n",
       "      <th>column1</th>\n",
       "    </tr>\n",
       "  </thead>\n",
       "  <tbody>\n",
       "    <tr>\n",
       "      <th>0</th>\n",
       "      <td>0</td>\n",
       "    </tr>\n",
       "    <tr>\n",
       "      <th>1</th>\n",
       "      <td>1</td>\n",
       "    </tr>\n",
       "    <tr>\n",
       "      <th>2</th>\n",
       "      <td>2</td>\n",
       "    </tr>\n",
       "    <tr>\n",
       "      <th>3</th>\n",
       "      <td>3</td>\n",
       "    </tr>\n",
       "  </tbody>\n",
       "</table>\n",
       "</div>"
      ],
      "text/plain": [
       "   column1\n",
       "0        0\n",
       "1        1\n",
       "2        2\n",
       "3        3"
      ]
     },
     "execution_count": 37,
     "metadata": {},
     "output_type": "execute_result"
    }
   ],
   "source": [
    "df.drop(['column2'],axis=1) # drop() 删除一行或一列"
   ]
  },
  {
   "cell_type": "code",
   "execution_count": 39,
   "metadata": {},
   "outputs": [
    {
     "data": {
      "text/html": [
       "<div>\n",
       "<style scoped>\n",
       "    .dataframe tbody tr th:only-of-type {\n",
       "        vertical-align: middle;\n",
       "    }\n",
       "\n",
       "    .dataframe tbody tr th {\n",
       "        vertical-align: top;\n",
       "    }\n",
       "\n",
       "    .dataframe thead th {\n",
       "        text-align: right;\n",
       "    }\n",
       "</style>\n",
       "<table border=\"1\" class=\"dataframe\">\n",
       "  <thead>\n",
       "    <tr style=\"text-align: right;\">\n",
       "      <th></th>\n",
       "      <th>Column1</th>\n",
       "      <th>Column2</th>\n",
       "    </tr>\n",
       "  </thead>\n",
       "  <tbody>\n",
       "    <tr>\n",
       "      <th>0</th>\n",
       "      <td>0</td>\n",
       "      <td>4</td>\n",
       "    </tr>\n",
       "    <tr>\n",
       "      <th>1</th>\n",
       "      <td>1</td>\n",
       "      <td>5</td>\n",
       "    </tr>\n",
       "    <tr>\n",
       "      <th>2</th>\n",
       "      <td>2</td>\n",
       "      <td>6</td>\n",
       "    </tr>\n",
       "    <tr>\n",
       "      <th>3</th>\n",
       "      <td>3</td>\n",
       "      <td>7</td>\n",
       "    </tr>\n",
       "  </tbody>\n",
       "</table>\n",
       "</div>"
      ],
      "text/plain": [
       "   Column1  Column2\n",
       "0        0        4\n",
       "1        1        5\n",
       "2        2        6\n",
       "3        3        7"
      ]
     },
     "execution_count": 39,
     "metadata": {},
     "output_type": "execute_result"
    }
   ],
   "source": [
    "df=pd.DataFrame([[0,4],[1,5],[2,6],[3,7]], columns=['Column1','Column2'])\n",
    "df"
   ]
  },
  {
   "cell_type": "code",
   "execution_count": 40,
   "metadata": {},
   "outputs": [
    {
     "data": {
      "text/html": [
       "<div>\n",
       "<style scoped>\n",
       "    .dataframe tbody tr th:only-of-type {\n",
       "        vertical-align: middle;\n",
       "    }\n",
       "\n",
       "    .dataframe tbody tr th {\n",
       "        vertical-align: top;\n",
       "    }\n",
       "\n",
       "    .dataframe thead th {\n",
       "        text-align: right;\n",
       "    }\n",
       "</style>\n",
       "<table border=\"1\" class=\"dataframe\">\n",
       "  <thead>\n",
       "    <tr style=\"text-align: right;\">\n",
       "      <th></th>\n",
       "      <th>column1</th>\n",
       "      <th>column2</th>\n",
       "    </tr>\n",
       "  </thead>\n",
       "  <tbody>\n",
       "    <tr>\n",
       "      <th>1</th>\n",
       "      <td>0</td>\n",
       "      <td>4</td>\n",
       "    </tr>\n",
       "    <tr>\n",
       "      <th>2</th>\n",
       "      <td>1</td>\n",
       "      <td>5</td>\n",
       "    </tr>\n",
       "    <tr>\n",
       "      <th>3</th>\n",
       "      <td>2</td>\n",
       "      <td>6</td>\n",
       "    </tr>\n",
       "    <tr>\n",
       "      <th>4</th>\n",
       "      <td>3</td>\n",
       "      <td>7</td>\n",
       "    </tr>\n",
       "  </tbody>\n",
       "</table>\n",
       "</div>"
      ],
      "text/plain": [
       "   column1  column2\n",
       "1        0        4\n",
       "2        1        5\n",
       "3        2        6\n",
       "4        3        7"
      ]
     },
     "execution_count": 40,
     "metadata": {},
     "output_type": "execute_result"
    }
   ],
   "source": [
    "df = pd.DataFrame({'column1':[0,1,2,3], 'column2':[4,5,6,7]}, index=[1,2,3,4])#若是沒有指定index，則index從0開始\n",
    "df"
   ]
  },
  {
   "cell_type": "markdown",
   "metadata": {},
   "source": [
    "### 如同Series，可在同一Data Frame中儲存不同型別的資料。"
   ]
  },
  {
   "cell_type": "code",
   "execution_count": 42,
   "metadata": {},
   "outputs": [
    {
     "data": {
      "text/html": [
       "<div>\n",
       "<style scoped>\n",
       "    .dataframe tbody tr th:only-of-type {\n",
       "        vertical-align: middle;\n",
       "    }\n",
       "\n",
       "    .dataframe tbody tr th {\n",
       "        vertical-align: top;\n",
       "    }\n",
       "\n",
       "    .dataframe thead th {\n",
       "        text-align: right;\n",
       "    }\n",
       "</style>\n",
       "<table border=\"1\" class=\"dataframe\">\n",
       "  <thead>\n",
       "    <tr style=\"text-align: right;\">\n",
       "      <th></th>\n",
       "      <th>column1</th>\n",
       "      <th>column2</th>\n",
       "    </tr>\n",
       "  </thead>\n",
       "  <tbody>\n",
       "    <tr>\n",
       "      <th>1</th>\n",
       "      <td>0</td>\n",
       "      <td>4.0</td>\n",
       "    </tr>\n",
       "    <tr>\n",
       "      <th>2</th>\n",
       "      <td>1</td>\n",
       "      <td>value5</td>\n",
       "    </tr>\n",
       "    <tr>\n",
       "      <th>3</th>\n",
       "      <td>2</td>\n",
       "      <td>6</td>\n",
       "    </tr>\n",
       "    <tr>\n",
       "      <th>4</th>\n",
       "      <td>3</td>\n",
       "      <td>7</td>\n",
       "    </tr>\n",
       "  </tbody>\n",
       "</table>\n",
       "</div>"
      ],
      "text/plain": [
       "   column1 column2\n",
       "1        0     4.0\n",
       "2        1  value5\n",
       "3        2       6\n",
       "4        3       7"
      ]
     },
     "execution_count": 42,
     "metadata": {},
     "output_type": "execute_result"
    }
   ],
   "source": [
    "df = pd.DataFrame({'column1':[0, 1, 2, 3], 'column2':[4.0, 'value5', 6, 7]}, index=[1, 2, 3, 4])\n",
    "df"
   ]
  },
  {
   "cell_type": "code",
   "execution_count": 43,
   "metadata": {
    "scrolled": true
   },
   "outputs": [
    {
     "data": {
      "text/plain": [
       "1    0\n",
       "2    1\n",
       "3    2\n",
       "4    3\n",
       "Name: column1, dtype: int64"
      ]
     },
     "execution_count": 43,
     "metadata": {},
     "output_type": "execute_result"
    }
   ],
   "source": [
    "df['column1']"
   ]
  },
  {
   "cell_type": "code",
   "execution_count": 44,
   "metadata": {},
   "outputs": [
    {
     "data": {
      "text/plain": [
       "1       4.0\n",
       "2    value5\n",
       "3         6\n",
       "4         7\n",
       "Name: column2, dtype: object"
      ]
     },
     "execution_count": 44,
     "metadata": {},
     "output_type": "execute_result"
    }
   ],
   "source": [
    "df['column2']"
   ]
  },
  {
   "cell_type": "markdown",
   "metadata": {},
   "source": [
    "## Operation\n",
    "#### 運算邏輯大致與Series相同，計算時以行、列兩者index皆相同者計算。"
   ]
  },
  {
   "cell_type": "markdown",
   "metadata": {},
   "source": [
    "#### 兩者計算時只有column name 為'column1'且row index為[1,2,3]的值存在於兩者交集之中，\n",
    "#### 因此結果為 1(0+1)、3(1+2)、5(2+3)，其餘則為空值。"
   ]
  },
  {
   "cell_type": "code",
   "execution_count": 45,
   "metadata": {},
   "outputs": [
    {
     "data": {
      "text/html": [
       "<div>\n",
       "<style scoped>\n",
       "    .dataframe tbody tr th:only-of-type {\n",
       "        vertical-align: middle;\n",
       "    }\n",
       "\n",
       "    .dataframe tbody tr th {\n",
       "        vertical-align: top;\n",
       "    }\n",
       "\n",
       "    .dataframe thead th {\n",
       "        text-align: right;\n",
       "    }\n",
       "</style>\n",
       "<table border=\"1\" class=\"dataframe\">\n",
       "  <thead>\n",
       "    <tr style=\"text-align: right;\">\n",
       "      <th></th>\n",
       "      <th>column1</th>\n",
       "      <th>column2</th>\n",
       "    </tr>\n",
       "  </thead>\n",
       "  <tbody>\n",
       "    <tr>\n",
       "      <th>1</th>\n",
       "      <td>0</td>\n",
       "      <td>4</td>\n",
       "    </tr>\n",
       "    <tr>\n",
       "      <th>2</th>\n",
       "      <td>1</td>\n",
       "      <td>5</td>\n",
       "    </tr>\n",
       "    <tr>\n",
       "      <th>3</th>\n",
       "      <td>2</td>\n",
       "      <td>6</td>\n",
       "    </tr>\n",
       "    <tr>\n",
       "      <th>4</th>\n",
       "      <td>3</td>\n",
       "      <td>7</td>\n",
       "    </tr>\n",
       "  </tbody>\n",
       "</table>\n",
       "</div>"
      ],
      "text/plain": [
       "   column1  column2\n",
       "1        0        4\n",
       "2        1        5\n",
       "3        2        6\n",
       "4        3        7"
      ]
     },
     "execution_count": 45,
     "metadata": {},
     "output_type": "execute_result"
    }
   ],
   "source": [
    "df1 = pd.DataFrame({'column1':[0,1,2,3], 'column2':[4,5,6,7]}, index=[1,2,3,4])\n",
    "df2 = pd.DataFrame({'column1':[0,1,2,3], 'column3':[4,5,6,7]})\n",
    "df1"
   ]
  },
  {
   "cell_type": "code",
   "execution_count": 46,
   "metadata": {},
   "outputs": [
    {
     "data": {
      "text/html": [
       "<div>\n",
       "<style scoped>\n",
       "    .dataframe tbody tr th:only-of-type {\n",
       "        vertical-align: middle;\n",
       "    }\n",
       "\n",
       "    .dataframe tbody tr th {\n",
       "        vertical-align: top;\n",
       "    }\n",
       "\n",
       "    .dataframe thead th {\n",
       "        text-align: right;\n",
       "    }\n",
       "</style>\n",
       "<table border=\"1\" class=\"dataframe\">\n",
       "  <thead>\n",
       "    <tr style=\"text-align: right;\">\n",
       "      <th></th>\n",
       "      <th>column1</th>\n",
       "      <th>column3</th>\n",
       "    </tr>\n",
       "  </thead>\n",
       "  <tbody>\n",
       "    <tr>\n",
       "      <th>0</th>\n",
       "      <td>0</td>\n",
       "      <td>4</td>\n",
       "    </tr>\n",
       "    <tr>\n",
       "      <th>1</th>\n",
       "      <td>1</td>\n",
       "      <td>5</td>\n",
       "    </tr>\n",
       "    <tr>\n",
       "      <th>2</th>\n",
       "      <td>2</td>\n",
       "      <td>6</td>\n",
       "    </tr>\n",
       "    <tr>\n",
       "      <th>3</th>\n",
       "      <td>3</td>\n",
       "      <td>7</td>\n",
       "    </tr>\n",
       "  </tbody>\n",
       "</table>\n",
       "</div>"
      ],
      "text/plain": [
       "   column1  column3\n",
       "0        0        4\n",
       "1        1        5\n",
       "2        2        6\n",
       "3        3        7"
      ]
     },
     "execution_count": 46,
     "metadata": {},
     "output_type": "execute_result"
    }
   ],
   "source": [
    "df2"
   ]
  },
  {
   "cell_type": "code",
   "execution_count": 47,
   "metadata": {},
   "outputs": [
    {
     "data": {
      "text/html": [
       "<div>\n",
       "<style scoped>\n",
       "    .dataframe tbody tr th:only-of-type {\n",
       "        vertical-align: middle;\n",
       "    }\n",
       "\n",
       "    .dataframe tbody tr th {\n",
       "        vertical-align: top;\n",
       "    }\n",
       "\n",
       "    .dataframe thead th {\n",
       "        text-align: right;\n",
       "    }\n",
       "</style>\n",
       "<table border=\"1\" class=\"dataframe\">\n",
       "  <thead>\n",
       "    <tr style=\"text-align: right;\">\n",
       "      <th></th>\n",
       "      <th>column1</th>\n",
       "      <th>column2</th>\n",
       "      <th>column3</th>\n",
       "    </tr>\n",
       "  </thead>\n",
       "  <tbody>\n",
       "    <tr>\n",
       "      <th>0</th>\n",
       "      <td>NaN</td>\n",
       "      <td>NaN</td>\n",
       "      <td>NaN</td>\n",
       "    </tr>\n",
       "    <tr>\n",
       "      <th>1</th>\n",
       "      <td>1.0</td>\n",
       "      <td>NaN</td>\n",
       "      <td>NaN</td>\n",
       "    </tr>\n",
       "    <tr>\n",
       "      <th>2</th>\n",
       "      <td>3.0</td>\n",
       "      <td>NaN</td>\n",
       "      <td>NaN</td>\n",
       "    </tr>\n",
       "    <tr>\n",
       "      <th>3</th>\n",
       "      <td>5.0</td>\n",
       "      <td>NaN</td>\n",
       "      <td>NaN</td>\n",
       "    </tr>\n",
       "    <tr>\n",
       "      <th>4</th>\n",
       "      <td>NaN</td>\n",
       "      <td>NaN</td>\n",
       "      <td>NaN</td>\n",
       "    </tr>\n",
       "  </tbody>\n",
       "</table>\n",
       "</div>"
      ],
      "text/plain": [
       "   column1  column2  column3\n",
       "0      NaN      NaN      NaN\n",
       "1      1.0      NaN      NaN\n",
       "2      3.0      NaN      NaN\n",
       "3      5.0      NaN      NaN\n",
       "4      NaN      NaN      NaN"
      ]
     },
     "execution_count": 47,
     "metadata": {},
     "output_type": "execute_result"
    }
   ],
   "source": [
    "df1+df2"
   ]
  },
  {
   "cell_type": "markdown",
   "metadata": {},
   "source": [
    "## index重複時運算處理"
   ]
  },
  {
   "cell_type": "markdown",
   "metadata": {},
   "source": [
    "### 若是inedx重複出現時，分為兩種情況。"
   ]
  },
  {
   "cell_type": "markdown",
   "metadata": {},
   "source": [
    "### 1.重複出現次數一致時"
   ]
  },
  {
   "cell_type": "code",
   "execution_count": 48,
   "metadata": {},
   "outputs": [
    {
     "data": {
      "text/html": [
       "<div>\n",
       "<style scoped>\n",
       "    .dataframe tbody tr th:only-of-type {\n",
       "        vertical-align: middle;\n",
       "    }\n",
       "\n",
       "    .dataframe tbody tr th {\n",
       "        vertical-align: top;\n",
       "    }\n",
       "\n",
       "    .dataframe thead th {\n",
       "        text-align: right;\n",
       "    }\n",
       "</style>\n",
       "<table border=\"1\" class=\"dataframe\">\n",
       "  <thead>\n",
       "    <tr style=\"text-align: right;\">\n",
       "      <th></th>\n",
       "      <th>column1</th>\n",
       "      <th>column2</th>\n",
       "    </tr>\n",
       "  </thead>\n",
       "  <tbody>\n",
       "    <tr>\n",
       "      <th>1</th>\n",
       "      <td>0</td>\n",
       "      <td>4</td>\n",
       "    </tr>\n",
       "    <tr>\n",
       "      <th>2</th>\n",
       "      <td>1</td>\n",
       "      <td>5</td>\n",
       "    </tr>\n",
       "    <tr>\n",
       "      <th>3</th>\n",
       "      <td>2</td>\n",
       "      <td>6</td>\n",
       "    </tr>\n",
       "    <tr>\n",
       "      <th>3</th>\n",
       "      <td>3</td>\n",
       "      <td>7</td>\n",
       "    </tr>\n",
       "  </tbody>\n",
       "</table>\n",
       "</div>"
      ],
      "text/plain": [
       "   column1  column2\n",
       "1        0        4\n",
       "2        1        5\n",
       "3        2        6\n",
       "3        3        7"
      ]
     },
     "execution_count": 48,
     "metadata": {},
     "output_type": "execute_result"
    }
   ],
   "source": [
    "df1 = pd.DataFrame({'column1':[0,1,2,3], 'column2':[4,5,6,7]}, index=[1,2,3,3])\n",
    "df1"
   ]
  },
  {
   "cell_type": "code",
   "execution_count": 49,
   "metadata": {},
   "outputs": [
    {
     "data": {
      "text/html": [
       "<div>\n",
       "<style scoped>\n",
       "    .dataframe tbody tr th:only-of-type {\n",
       "        vertical-align: middle;\n",
       "    }\n",
       "\n",
       "    .dataframe tbody tr th {\n",
       "        vertical-align: top;\n",
       "    }\n",
       "\n",
       "    .dataframe thead th {\n",
       "        text-align: right;\n",
       "    }\n",
       "</style>\n",
       "<table border=\"1\" class=\"dataframe\">\n",
       "  <thead>\n",
       "    <tr style=\"text-align: right;\">\n",
       "      <th></th>\n",
       "      <th>column1</th>\n",
       "      <th>column2</th>\n",
       "    </tr>\n",
       "  </thead>\n",
       "  <tbody>\n",
       "    <tr>\n",
       "      <th>1</th>\n",
       "      <td>0</td>\n",
       "      <td>4</td>\n",
       "    </tr>\n",
       "    <tr>\n",
       "      <th>2</th>\n",
       "      <td>1</td>\n",
       "      <td>5</td>\n",
       "    </tr>\n",
       "    <tr>\n",
       "      <th>3</th>\n",
       "      <td>2</td>\n",
       "      <td>6</td>\n",
       "    </tr>\n",
       "    <tr>\n",
       "      <th>3</th>\n",
       "      <td>3</td>\n",
       "      <td>7</td>\n",
       "    </tr>\n",
       "  </tbody>\n",
       "</table>\n",
       "</div>"
      ],
      "text/plain": [
       "   column1  column2\n",
       "1        0        4\n",
       "2        1        5\n",
       "3        2        6\n",
       "3        3        7"
      ]
     },
     "execution_count": 49,
     "metadata": {},
     "output_type": "execute_result"
    }
   ],
   "source": [
    "df2 = pd.DataFrame({'column1':[0,1,2,3], 'column2':[4,5,6,7]}, index=[1,2,3,3])\n",
    "df2"
   ]
  },
  {
   "cell_type": "markdown",
   "metadata": {},
   "source": [
    "#### 此時不像Series出現4筆資料，而是根據位置只計算兩組資料。"
   ]
  },
  {
   "cell_type": "code",
   "execution_count": 50,
   "metadata": {
    "scrolled": true
   },
   "outputs": [
    {
     "data": {
      "text/html": [
       "<div>\n",
       "<style scoped>\n",
       "    .dataframe tbody tr th:only-of-type {\n",
       "        vertical-align: middle;\n",
       "    }\n",
       "\n",
       "    .dataframe tbody tr th {\n",
       "        vertical-align: top;\n",
       "    }\n",
       "\n",
       "    .dataframe thead th {\n",
       "        text-align: right;\n",
       "    }\n",
       "</style>\n",
       "<table border=\"1\" class=\"dataframe\">\n",
       "  <thead>\n",
       "    <tr style=\"text-align: right;\">\n",
       "      <th></th>\n",
       "      <th>column1</th>\n",
       "      <th>column2</th>\n",
       "    </tr>\n",
       "  </thead>\n",
       "  <tbody>\n",
       "    <tr>\n",
       "      <th>1</th>\n",
       "      <td>0</td>\n",
       "      <td>8</td>\n",
       "    </tr>\n",
       "    <tr>\n",
       "      <th>2</th>\n",
       "      <td>2</td>\n",
       "      <td>10</td>\n",
       "    </tr>\n",
       "    <tr>\n",
       "      <th>3</th>\n",
       "      <td>4</td>\n",
       "      <td>12</td>\n",
       "    </tr>\n",
       "    <tr>\n",
       "      <th>3</th>\n",
       "      <td>6</td>\n",
       "      <td>14</td>\n",
       "    </tr>\n",
       "  </tbody>\n",
       "</table>\n",
       "</div>"
      ],
      "text/plain": [
       "   column1  column2\n",
       "1        0        8\n",
       "2        2       10\n",
       "3        4       12\n",
       "3        6       14"
      ]
     },
     "execution_count": 50,
     "metadata": {},
     "output_type": "execute_result"
    }
   ],
   "source": [
    "df1+df2"
   ]
  },
  {
   "cell_type": "markdown",
   "metadata": {},
   "source": [
    "### 2.重複出現次數不一致"
   ]
  },
  {
   "cell_type": "code",
   "execution_count": 51,
   "metadata": {},
   "outputs": [
    {
     "data": {
      "text/html": [
       "<div>\n",
       "<style scoped>\n",
       "    .dataframe tbody tr th:only-of-type {\n",
       "        vertical-align: middle;\n",
       "    }\n",
       "\n",
       "    .dataframe tbody tr th {\n",
       "        vertical-align: top;\n",
       "    }\n",
       "\n",
       "    .dataframe thead th {\n",
       "        text-align: right;\n",
       "    }\n",
       "</style>\n",
       "<table border=\"1\" class=\"dataframe\">\n",
       "  <thead>\n",
       "    <tr style=\"text-align: right;\">\n",
       "      <th></th>\n",
       "      <th>column1</th>\n",
       "      <th>column2</th>\n",
       "    </tr>\n",
       "  </thead>\n",
       "  <tbody>\n",
       "    <tr>\n",
       "      <th>1</th>\n",
       "      <td>0</td>\n",
       "      <td>4</td>\n",
       "    </tr>\n",
       "    <tr>\n",
       "      <th>2</th>\n",
       "      <td>1</td>\n",
       "      <td>5</td>\n",
       "    </tr>\n",
       "    <tr>\n",
       "      <th>3</th>\n",
       "      <td>2</td>\n",
       "      <td>6</td>\n",
       "    </tr>\n",
       "    <tr>\n",
       "      <th>3</th>\n",
       "      <td>3</td>\n",
       "      <td>7</td>\n",
       "    </tr>\n",
       "  </tbody>\n",
       "</table>\n",
       "</div>"
      ],
      "text/plain": [
       "   column1  column2\n",
       "1        0        4\n",
       "2        1        5\n",
       "3        2        6\n",
       "3        3        7"
      ]
     },
     "execution_count": 51,
     "metadata": {},
     "output_type": "execute_result"
    }
   ],
   "source": [
    "df1 = pd.DataFrame({'column1':[0,1,2,3], 'column2':[4,5,6,7]}, index=[1,2,3,3])\n",
    "df1"
   ]
  },
  {
   "cell_type": "code",
   "execution_count": 52,
   "metadata": {},
   "outputs": [
    {
     "data": {
      "text/html": [
       "<div>\n",
       "<style scoped>\n",
       "    .dataframe tbody tr th:only-of-type {\n",
       "        vertical-align: middle;\n",
       "    }\n",
       "\n",
       "    .dataframe tbody tr th {\n",
       "        vertical-align: top;\n",
       "    }\n",
       "\n",
       "    .dataframe thead th {\n",
       "        text-align: right;\n",
       "    }\n",
       "</style>\n",
       "<table border=\"1\" class=\"dataframe\">\n",
       "  <thead>\n",
       "    <tr style=\"text-align: right;\">\n",
       "      <th></th>\n",
       "      <th>column1</th>\n",
       "      <th>column2</th>\n",
       "    </tr>\n",
       "  </thead>\n",
       "  <tbody>\n",
       "    <tr>\n",
       "      <th>1</th>\n",
       "      <td>0</td>\n",
       "      <td>4</td>\n",
       "    </tr>\n",
       "    <tr>\n",
       "      <th>3</th>\n",
       "      <td>1</td>\n",
       "      <td>5</td>\n",
       "    </tr>\n",
       "    <tr>\n",
       "      <th>3</th>\n",
       "      <td>2</td>\n",
       "      <td>6</td>\n",
       "    </tr>\n",
       "    <tr>\n",
       "      <th>3</th>\n",
       "      <td>3</td>\n",
       "      <td>7</td>\n",
       "    </tr>\n",
       "  </tbody>\n",
       "</table>\n",
       "</div>"
      ],
      "text/plain": [
       "   column1  column2\n",
       "1        0        4\n",
       "3        1        5\n",
       "3        2        6\n",
       "3        3        7"
      ]
     },
     "execution_count": 52,
     "metadata": {},
     "output_type": "execute_result"
    }
   ],
   "source": [
    "df2 = pd.DataFrame({'column1':[0,1,2,3], 'column2':[4,5,6,7]}, index=[1,3,3,3])\n",
    "df2"
   ]
  },
  {
   "cell_type": "markdown",
   "metadata": {},
   "source": [
    "#### 此時則會計算所有的組合結果"
   ]
  },
  {
   "cell_type": "code",
   "execution_count": 53,
   "metadata": {
    "scrolled": true
   },
   "outputs": [
    {
     "data": {
      "text/html": [
       "<div>\n",
       "<style scoped>\n",
       "    .dataframe tbody tr th:only-of-type {\n",
       "        vertical-align: middle;\n",
       "    }\n",
       "\n",
       "    .dataframe tbody tr th {\n",
       "        vertical-align: top;\n",
       "    }\n",
       "\n",
       "    .dataframe thead th {\n",
       "        text-align: right;\n",
       "    }\n",
       "</style>\n",
       "<table border=\"1\" class=\"dataframe\">\n",
       "  <thead>\n",
       "    <tr style=\"text-align: right;\">\n",
       "      <th></th>\n",
       "      <th>column1</th>\n",
       "      <th>column2</th>\n",
       "    </tr>\n",
       "  </thead>\n",
       "  <tbody>\n",
       "    <tr>\n",
       "      <th>1</th>\n",
       "      <td>0.0</td>\n",
       "      <td>8.0</td>\n",
       "    </tr>\n",
       "    <tr>\n",
       "      <th>2</th>\n",
       "      <td>NaN</td>\n",
       "      <td>NaN</td>\n",
       "    </tr>\n",
       "    <tr>\n",
       "      <th>3</th>\n",
       "      <td>3.0</td>\n",
       "      <td>11.0</td>\n",
       "    </tr>\n",
       "    <tr>\n",
       "      <th>3</th>\n",
       "      <td>4.0</td>\n",
       "      <td>12.0</td>\n",
       "    </tr>\n",
       "    <tr>\n",
       "      <th>3</th>\n",
       "      <td>5.0</td>\n",
       "      <td>13.0</td>\n",
       "    </tr>\n",
       "    <tr>\n",
       "      <th>3</th>\n",
       "      <td>4.0</td>\n",
       "      <td>12.0</td>\n",
       "    </tr>\n",
       "    <tr>\n",
       "      <th>3</th>\n",
       "      <td>5.0</td>\n",
       "      <td>13.0</td>\n",
       "    </tr>\n",
       "    <tr>\n",
       "      <th>3</th>\n",
       "      <td>6.0</td>\n",
       "      <td>14.0</td>\n",
       "    </tr>\n",
       "  </tbody>\n",
       "</table>\n",
       "</div>"
      ],
      "text/plain": [
       "   column1  column2\n",
       "1      0.0      8.0\n",
       "2      NaN      NaN\n",
       "3      3.0     11.0\n",
       "3      4.0     12.0\n",
       "3      5.0     13.0\n",
       "3      4.0     12.0\n",
       "3      5.0     13.0\n",
       "3      6.0     14.0"
      ]
     },
     "execution_count": 53,
     "metadata": {},
     "output_type": "execute_result"
    }
   ],
   "source": [
    "df1+df2 #df2中並沒有 row '2' 因此為空值"
   ]
  },
  {
   "cell_type": "markdown",
   "metadata": {},
   "source": [
    "# 資料處理\n",
    "### 以上一章節中使用的股市資料示範如何利用Pandas進行資料篩選以及處理。"
   ]
  },
  {
   "cell_type": "markdown",
   "metadata": {},
   "source": [
    "### 股市資料"
   ]
  },
  {
   "cell_type": "code",
   "execution_count": 55,
   "metadata": {
    "scrolled": false
   },
   "outputs": [],
   "source": [
    "date = \"20240227\"\n",
    "url = f'https://www.twse.com.tw/exchangeReport/MI_INDEX?response=json&date={date}&type=ALLBUT0999'\n",
    "response = requests.get(url)\n",
    "response_json = response.json()\n",
    "stock = pd.DataFrame(response_json['data9'], columns=response_json['fields9'])"
   ]
  },
  {
   "cell_type": "code",
   "execution_count": 56,
   "metadata": {},
   "outputs": [],
   "source": [
    "stock.to_csv('stock_20240227.csv', index=False)"
   ]
  },
  {
   "cell_type": "code",
   "execution_count": 58,
   "metadata": {},
   "outputs": [
    {
     "data": {
      "text/html": [
       "<div>\n",
       "<style scoped>\n",
       "    .dataframe tbody tr th:only-of-type {\n",
       "        vertical-align: middle;\n",
       "    }\n",
       "\n",
       "    .dataframe tbody tr th {\n",
       "        vertical-align: top;\n",
       "    }\n",
       "\n",
       "    .dataframe thead th {\n",
       "        text-align: right;\n",
       "    }\n",
       "</style>\n",
       "<table border=\"1\" class=\"dataframe\">\n",
       "  <thead>\n",
       "    <tr style=\"text-align: right;\">\n",
       "      <th></th>\n",
       "      <th>證券代號</th>\n",
       "      <th>證券名稱</th>\n",
       "      <th>成交股數</th>\n",
       "      <th>成交筆數</th>\n",
       "      <th>成交金額</th>\n",
       "      <th>開盤價</th>\n",
       "      <th>最高價</th>\n",
       "      <th>最低價</th>\n",
       "      <th>收盤價</th>\n",
       "      <th>漲跌(+/-)</th>\n",
       "      <th>漲跌價差</th>\n",
       "      <th>最後揭示買價</th>\n",
       "      <th>最後揭示買量</th>\n",
       "      <th>最後揭示賣價</th>\n",
       "      <th>最後揭示賣量</th>\n",
       "      <th>本益比</th>\n",
       "    </tr>\n",
       "  </thead>\n",
       "  <tbody>\n",
       "    <tr>\n",
       "      <th>0</th>\n",
       "      <td>0050</td>\n",
       "      <td>元大台灣50</td>\n",
       "      <td>6,507,934</td>\n",
       "      <td>10,372</td>\n",
       "      <td>933,504,679</td>\n",
       "      <td>143.95</td>\n",
       "      <td>144.20</td>\n",
       "      <td>142.65</td>\n",
       "      <td>143.35</td>\n",
       "      <td>&lt;p style= color:green&gt;-&lt;/p&gt;</td>\n",
       "      <td>0.60</td>\n",
       "      <td>143.30</td>\n",
       "      <td>7</td>\n",
       "      <td>143.35</td>\n",
       "      <td>40</td>\n",
       "      <td>0.00</td>\n",
       "    </tr>\n",
       "    <tr>\n",
       "      <th>1</th>\n",
       "      <td>0051</td>\n",
       "      <td>元大中型100</td>\n",
       "      <td>57,037</td>\n",
       "      <td>268</td>\n",
       "      <td>4,344,737</td>\n",
       "      <td>76.65</td>\n",
       "      <td>77.00</td>\n",
       "      <td>75.55</td>\n",
       "      <td>76.15</td>\n",
       "      <td>&lt;p style= color:green&gt;-&lt;/p&gt;</td>\n",
       "      <td>0.35</td>\n",
       "      <td>76.15</td>\n",
       "      <td>1</td>\n",
       "      <td>76.20</td>\n",
       "      <td>31</td>\n",
       "      <td>0.00</td>\n",
       "    </tr>\n",
       "    <tr>\n",
       "      <th>2</th>\n",
       "      <td>0052</td>\n",
       "      <td>富邦科技</td>\n",
       "      <td>718,096</td>\n",
       "      <td>675</td>\n",
       "      <td>103,446,258</td>\n",
       "      <td>145.30</td>\n",
       "      <td>145.30</td>\n",
       "      <td>143.20</td>\n",
       "      <td>144.30</td>\n",
       "      <td>&lt;p style= color:green&gt;-&lt;/p&gt;</td>\n",
       "      <td>0.75</td>\n",
       "      <td>144.30</td>\n",
       "      <td>27</td>\n",
       "      <td>144.40</td>\n",
       "      <td>18</td>\n",
       "      <td>0.00</td>\n",
       "    </tr>\n",
       "    <tr>\n",
       "      <th>3</th>\n",
       "      <td>0053</td>\n",
       "      <td>元大電子</td>\n",
       "      <td>10,526</td>\n",
       "      <td>84</td>\n",
       "      <td>824,634</td>\n",
       "      <td>78.65</td>\n",
       "      <td>78.65</td>\n",
       "      <td>78.25</td>\n",
       "      <td>78.30</td>\n",
       "      <td>&lt;p style= color:green&gt;-&lt;/p&gt;</td>\n",
       "      <td>0.35</td>\n",
       "      <td>78.25</td>\n",
       "      <td>1</td>\n",
       "      <td>78.45</td>\n",
       "      <td>23</td>\n",
       "      <td>0.00</td>\n",
       "    </tr>\n",
       "    <tr>\n",
       "      <th>4</th>\n",
       "      <td>0055</td>\n",
       "      <td>元大MSCI金融</td>\n",
       "      <td>227,513</td>\n",
       "      <td>270</td>\n",
       "      <td>5,408,153</td>\n",
       "      <td>23.80</td>\n",
       "      <td>23.89</td>\n",
       "      <td>23.71</td>\n",
       "      <td>23.75</td>\n",
       "      <td>&lt;p style= color:green&gt;-&lt;/p&gt;</td>\n",
       "      <td>0.05</td>\n",
       "      <td>23.74</td>\n",
       "      <td>1</td>\n",
       "      <td>23.75</td>\n",
       "      <td>8</td>\n",
       "      <td>0.00</td>\n",
       "    </tr>\n",
       "  </tbody>\n",
       "</table>\n",
       "</div>"
      ],
      "text/plain": [
       "   證券代號      證券名稱       成交股數    成交筆數         成交金額     開盤價     最高價     最低價  \\\n",
       "0  0050    元大台灣50  6,507,934  10,372  933,504,679  143.95  144.20  142.65   \n",
       "1  0051   元大中型100     57,037     268    4,344,737   76.65   77.00   75.55   \n",
       "2  0052      富邦科技    718,096     675  103,446,258  145.30  145.30  143.20   \n",
       "3  0053      元大電子     10,526      84      824,634   78.65   78.65   78.25   \n",
       "4  0055  元大MSCI金融    227,513     270    5,408,153   23.80   23.89   23.71   \n",
       "\n",
       "      收盤價                      漲跌(+/-)  漲跌價差  最後揭示買價 最後揭示買量  最後揭示賣價 最後揭示賣量  \\\n",
       "0  143.35  <p style= color:green>-</p>  0.60  143.30      7  143.35     40   \n",
       "1   76.15  <p style= color:green>-</p>  0.35   76.15      1   76.20     31   \n",
       "2  144.30  <p style= color:green>-</p>  0.75  144.30     27  144.40     18   \n",
       "3   78.30  <p style= color:green>-</p>  0.35   78.25      1   78.45     23   \n",
       "4   23.75  <p style= color:green>-</p>  0.05   23.74      1   23.75      8   \n",
       "\n",
       "    本益比  \n",
       "0  0.00  \n",
       "1  0.00  \n",
       "2  0.00  \n",
       "3  0.00  \n",
       "4  0.00  "
      ]
     },
     "execution_count": 58,
     "metadata": {},
     "output_type": "execute_result"
    }
   ],
   "source": [
    "# 用上次閜仔的資料，使用pd.read_csv(filepath)即可\n",
    "pd.read_csv('stock_20240227.csv').head()"
   ]
  },
  {
   "cell_type": "code",
   "execution_count": 60,
   "metadata": {
    "scrolled": false
   },
   "outputs": [
    {
     "data": {
      "text/html": [
       "<div>\n",
       "<style scoped>\n",
       "    .dataframe tbody tr th:only-of-type {\n",
       "        vertical-align: middle;\n",
       "    }\n",
       "\n",
       "    .dataframe tbody tr th {\n",
       "        vertical-align: top;\n",
       "    }\n",
       "\n",
       "    .dataframe thead th {\n",
       "        text-align: right;\n",
       "    }\n",
       "</style>\n",
       "<table border=\"1\" class=\"dataframe\">\n",
       "  <thead>\n",
       "    <tr style=\"text-align: right;\">\n",
       "      <th></th>\n",
       "      <th>證券代號</th>\n",
       "      <th>證券名稱</th>\n",
       "      <th>成交股數</th>\n",
       "      <th>成交筆數</th>\n",
       "      <th>成交金額</th>\n",
       "      <th>開盤價</th>\n",
       "      <th>最高價</th>\n",
       "      <th>最低價</th>\n",
       "      <th>收盤價</th>\n",
       "      <th>漲跌(+/-)</th>\n",
       "      <th>漲跌價差</th>\n",
       "      <th>最後揭示買價</th>\n",
       "      <th>最後揭示買量</th>\n",
       "      <th>最後揭示賣價</th>\n",
       "      <th>最後揭示賣量</th>\n",
       "      <th>本益比</th>\n",
       "    </tr>\n",
       "  </thead>\n",
       "  <tbody>\n",
       "    <tr>\n",
       "      <th>0</th>\n",
       "      <td>0050</td>\n",
       "      <td>元大台灣50</td>\n",
       "      <td>6,507,934</td>\n",
       "      <td>10,372</td>\n",
       "      <td>933,504,679</td>\n",
       "      <td>143.95</td>\n",
       "      <td>144.20</td>\n",
       "      <td>142.65</td>\n",
       "      <td>143.35</td>\n",
       "      <td>&lt;p style= color:green&gt;-&lt;/p&gt;</td>\n",
       "      <td>0.60</td>\n",
       "      <td>143.30</td>\n",
       "      <td>7</td>\n",
       "      <td>143.35</td>\n",
       "      <td>40</td>\n",
       "      <td>0.00</td>\n",
       "    </tr>\n",
       "    <tr>\n",
       "      <th>1</th>\n",
       "      <td>0051</td>\n",
       "      <td>元大中型100</td>\n",
       "      <td>57,037</td>\n",
       "      <td>268</td>\n",
       "      <td>4,344,737</td>\n",
       "      <td>76.65</td>\n",
       "      <td>77.00</td>\n",
       "      <td>75.55</td>\n",
       "      <td>76.15</td>\n",
       "      <td>&lt;p style= color:green&gt;-&lt;/p&gt;</td>\n",
       "      <td>0.35</td>\n",
       "      <td>76.15</td>\n",
       "      <td>1</td>\n",
       "      <td>76.20</td>\n",
       "      <td>31</td>\n",
       "      <td>0.00</td>\n",
       "    </tr>\n",
       "    <tr>\n",
       "      <th>2</th>\n",
       "      <td>0052</td>\n",
       "      <td>富邦科技</td>\n",
       "      <td>718,096</td>\n",
       "      <td>675</td>\n",
       "      <td>103,446,258</td>\n",
       "      <td>145.30</td>\n",
       "      <td>145.30</td>\n",
       "      <td>143.20</td>\n",
       "      <td>144.30</td>\n",
       "      <td>&lt;p style= color:green&gt;-&lt;/p&gt;</td>\n",
       "      <td>0.75</td>\n",
       "      <td>144.30</td>\n",
       "      <td>27</td>\n",
       "      <td>144.40</td>\n",
       "      <td>18</td>\n",
       "      <td>0.00</td>\n",
       "    </tr>\n",
       "    <tr>\n",
       "      <th>3</th>\n",
       "      <td>0053</td>\n",
       "      <td>元大電子</td>\n",
       "      <td>10,526</td>\n",
       "      <td>84</td>\n",
       "      <td>824,634</td>\n",
       "      <td>78.65</td>\n",
       "      <td>78.65</td>\n",
       "      <td>78.25</td>\n",
       "      <td>78.30</td>\n",
       "      <td>&lt;p style= color:green&gt;-&lt;/p&gt;</td>\n",
       "      <td>0.35</td>\n",
       "      <td>78.25</td>\n",
       "      <td>1</td>\n",
       "      <td>78.45</td>\n",
       "      <td>23</td>\n",
       "      <td>0.00</td>\n",
       "    </tr>\n",
       "    <tr>\n",
       "      <th>4</th>\n",
       "      <td>0055</td>\n",
       "      <td>元大MSCI金融</td>\n",
       "      <td>227,513</td>\n",
       "      <td>270</td>\n",
       "      <td>5,408,153</td>\n",
       "      <td>23.80</td>\n",
       "      <td>23.89</td>\n",
       "      <td>23.71</td>\n",
       "      <td>23.75</td>\n",
       "      <td>&lt;p style= color:green&gt;-&lt;/p&gt;</td>\n",
       "      <td>0.05</td>\n",
       "      <td>23.74</td>\n",
       "      <td>1</td>\n",
       "      <td>23.75</td>\n",
       "      <td>8</td>\n",
       "      <td>0.00</td>\n",
       "    </tr>\n",
       "  </tbody>\n",
       "</table>\n",
       "</div>"
      ],
      "text/plain": [
       "   證券代號      證券名稱       成交股數    成交筆數         成交金額     開盤價     最高價     最低價  \\\n",
       "0  0050    元大台灣50  6,507,934  10,372  933,504,679  143.95  144.20  142.65   \n",
       "1  0051   元大中型100     57,037     268    4,344,737   76.65   77.00   75.55   \n",
       "2  0052      富邦科技    718,096     675  103,446,258  145.30  145.30  143.20   \n",
       "3  0053      元大電子     10,526      84      824,634   78.65   78.65   78.25   \n",
       "4  0055  元大MSCI金融    227,513     270    5,408,153   23.80   23.89   23.71   \n",
       "\n",
       "      收盤價                      漲跌(+/-)  漲跌價差  最後揭示買價 最後揭示買量  最後揭示賣價 最後揭示賣量  \\\n",
       "0  143.35  <p style= color:green>-</p>  0.60  143.30      7  143.35     40   \n",
       "1   76.15  <p style= color:green>-</p>  0.35   76.15      1   76.20     31   \n",
       "2  144.30  <p style= color:green>-</p>  0.75  144.30     27  144.40     18   \n",
       "3   78.30  <p style= color:green>-</p>  0.35   78.25      1   78.45     23   \n",
       "4   23.75  <p style= color:green>-</p>  0.05   23.74      1   23.75      8   \n",
       "\n",
       "    本益比  \n",
       "0  0.00  \n",
       "1  0.00  \n",
       "2  0.00  \n",
       "3  0.00  \n",
       "4  0.00  "
      ]
     },
     "execution_count": 60,
     "metadata": {},
     "output_type": "execute_result"
    }
   ],
   "source": [
    "stock.head()"
   ]
  },
  {
   "cell_type": "markdown",
   "metadata": {},
   "source": [
    "## 資料篩選 - slice\n",
    "#### 將第0到第2(3-1)筆資料取出"
   ]
  },
  {
   "cell_type": "code",
   "execution_count": 61,
   "metadata": {
    "scrolled": false
   },
   "outputs": [
    {
     "data": {
      "text/html": [
       "<div>\n",
       "<style scoped>\n",
       "    .dataframe tbody tr th:only-of-type {\n",
       "        vertical-align: middle;\n",
       "    }\n",
       "\n",
       "    .dataframe tbody tr th {\n",
       "        vertical-align: top;\n",
       "    }\n",
       "\n",
       "    .dataframe thead th {\n",
       "        text-align: right;\n",
       "    }\n",
       "</style>\n",
       "<table border=\"1\" class=\"dataframe\">\n",
       "  <thead>\n",
       "    <tr style=\"text-align: right;\">\n",
       "      <th></th>\n",
       "      <th>證券代號</th>\n",
       "      <th>證券名稱</th>\n",
       "      <th>成交股數</th>\n",
       "      <th>成交筆數</th>\n",
       "      <th>成交金額</th>\n",
       "      <th>開盤價</th>\n",
       "      <th>最高價</th>\n",
       "      <th>最低價</th>\n",
       "      <th>收盤價</th>\n",
       "      <th>漲跌(+/-)</th>\n",
       "      <th>漲跌價差</th>\n",
       "      <th>最後揭示買價</th>\n",
       "      <th>最後揭示買量</th>\n",
       "      <th>最後揭示賣價</th>\n",
       "      <th>最後揭示賣量</th>\n",
       "      <th>本益比</th>\n",
       "    </tr>\n",
       "  </thead>\n",
       "  <tbody>\n",
       "    <tr>\n",
       "      <th>0</th>\n",
       "      <td>0050</td>\n",
       "      <td>元大台灣50</td>\n",
       "      <td>6,507,934</td>\n",
       "      <td>10,372</td>\n",
       "      <td>933,504,679</td>\n",
       "      <td>143.95</td>\n",
       "      <td>144.20</td>\n",
       "      <td>142.65</td>\n",
       "      <td>143.35</td>\n",
       "      <td>&lt;p style= color:green&gt;-&lt;/p&gt;</td>\n",
       "      <td>0.60</td>\n",
       "      <td>143.30</td>\n",
       "      <td>7</td>\n",
       "      <td>143.35</td>\n",
       "      <td>40</td>\n",
       "      <td>0.00</td>\n",
       "    </tr>\n",
       "    <tr>\n",
       "      <th>1</th>\n",
       "      <td>0051</td>\n",
       "      <td>元大中型100</td>\n",
       "      <td>57,037</td>\n",
       "      <td>268</td>\n",
       "      <td>4,344,737</td>\n",
       "      <td>76.65</td>\n",
       "      <td>77.00</td>\n",
       "      <td>75.55</td>\n",
       "      <td>76.15</td>\n",
       "      <td>&lt;p style= color:green&gt;-&lt;/p&gt;</td>\n",
       "      <td>0.35</td>\n",
       "      <td>76.15</td>\n",
       "      <td>1</td>\n",
       "      <td>76.20</td>\n",
       "      <td>31</td>\n",
       "      <td>0.00</td>\n",
       "    </tr>\n",
       "    <tr>\n",
       "      <th>2</th>\n",
       "      <td>0052</td>\n",
       "      <td>富邦科技</td>\n",
       "      <td>718,096</td>\n",
       "      <td>675</td>\n",
       "      <td>103,446,258</td>\n",
       "      <td>145.30</td>\n",
       "      <td>145.30</td>\n",
       "      <td>143.20</td>\n",
       "      <td>144.30</td>\n",
       "      <td>&lt;p style= color:green&gt;-&lt;/p&gt;</td>\n",
       "      <td>0.75</td>\n",
       "      <td>144.30</td>\n",
       "      <td>27</td>\n",
       "      <td>144.40</td>\n",
       "      <td>18</td>\n",
       "      <td>0.00</td>\n",
       "    </tr>\n",
       "  </tbody>\n",
       "</table>\n",
       "</div>"
      ],
      "text/plain": [
       "   證券代號     證券名稱       成交股數    成交筆數         成交金額     開盤價     最高價     最低價  \\\n",
       "0  0050   元大台灣50  6,507,934  10,372  933,504,679  143.95  144.20  142.65   \n",
       "1  0051  元大中型100     57,037     268    4,344,737   76.65   77.00   75.55   \n",
       "2  0052     富邦科技    718,096     675  103,446,258  145.30  145.30  143.20   \n",
       "\n",
       "      收盤價                      漲跌(+/-)  漲跌價差  最後揭示買價 最後揭示買量  最後揭示賣價 最後揭示賣量  \\\n",
       "0  143.35  <p style= color:green>-</p>  0.60  143.30      7  143.35     40   \n",
       "1   76.15  <p style= color:green>-</p>  0.35   76.15      1   76.20     31   \n",
       "2  144.30  <p style= color:green>-</p>  0.75  144.30     27  144.40     18   \n",
       "\n",
       "    本益比  \n",
       "0  0.00  \n",
       "1  0.00  \n",
       "2  0.00  "
      ]
     },
     "execution_count": 61,
     "metadata": {},
     "output_type": "execute_result"
    }
   ],
   "source": [
    "stock[0:3]"
   ]
  },
  {
   "cell_type": "markdown",
   "metadata": {},
   "source": [
    "### Select by location - iloc、iat\n",
    "#### 取出\"位置\"在第二筆的資料\n",
    "#### iloc[ ] 含頭不含尾"
   ]
  },
  {
   "cell_type": "code",
   "execution_count": 62,
   "metadata": {
    "scrolled": false
   },
   "outputs": [
    {
     "data": {
      "text/plain": [
       "證券代號                              0051\n",
       "證券名稱                           元大中型100\n",
       "成交股數                            57,037\n",
       "成交筆數                               268\n",
       "成交金額                         4,344,737\n",
       "開盤價                              76.65\n",
       "最高價                              77.00\n",
       "最低價                              75.55\n",
       "收盤價                              76.15\n",
       "漲跌(+/-)    <p style= color:green>-</p>\n",
       "漲跌價差                              0.35\n",
       "最後揭示買價                           76.15\n",
       "最後揭示買量                               1\n",
       "最後揭示賣價                           76.20\n",
       "最後揭示賣量                              31\n",
       "本益比                               0.00\n",
       "Name: 1, dtype: object"
      ]
     },
     "execution_count": 62,
     "metadata": {},
     "output_type": "execute_result"
    }
   ],
   "source": [
    "stock.iloc[1] #start from 0"
   ]
  },
  {
   "cell_type": "code",
   "execution_count": 65,
   "metadata": {},
   "outputs": [
    {
     "data": {
      "text/html": [
       "<div>\n",
       "<style scoped>\n",
       "    .dataframe tbody tr th:only-of-type {\n",
       "        vertical-align: middle;\n",
       "    }\n",
       "\n",
       "    .dataframe tbody tr th {\n",
       "        vertical-align: top;\n",
       "    }\n",
       "\n",
       "    .dataframe thead th {\n",
       "        text-align: right;\n",
       "    }\n",
       "</style>\n",
       "<table border=\"1\" class=\"dataframe\">\n",
       "  <thead>\n",
       "    <tr style=\"text-align: right;\">\n",
       "      <th></th>\n",
       "      <th>證券代號</th>\n",
       "      <th>證券名稱</th>\n",
       "      <th>成交股數</th>\n",
       "      <th>成交筆數</th>\n",
       "      <th>成交金額</th>\n",
       "      <th>開盤價</th>\n",
       "      <th>最高價</th>\n",
       "      <th>最低價</th>\n",
       "      <th>收盤價</th>\n",
       "      <th>漲跌(+/-)</th>\n",
       "      <th>漲跌價差</th>\n",
       "      <th>最後揭示買價</th>\n",
       "      <th>最後揭示買量</th>\n",
       "      <th>最後揭示賣價</th>\n",
       "      <th>最後揭示賣量</th>\n",
       "      <th>本益比</th>\n",
       "    </tr>\n",
       "  </thead>\n",
       "  <tbody>\n",
       "    <tr>\n",
       "      <th>1</th>\n",
       "      <td>0051</td>\n",
       "      <td>元大中型100</td>\n",
       "      <td>57,037</td>\n",
       "      <td>268</td>\n",
       "      <td>4,344,737</td>\n",
       "      <td>76.65</td>\n",
       "      <td>77.00</td>\n",
       "      <td>75.55</td>\n",
       "      <td>76.15</td>\n",
       "      <td>&lt;p style= color:green&gt;-&lt;/p&gt;</td>\n",
       "      <td>0.35</td>\n",
       "      <td>76.15</td>\n",
       "      <td>1</td>\n",
       "      <td>76.20</td>\n",
       "      <td>31</td>\n",
       "      <td>0.00</td>\n",
       "    </tr>\n",
       "    <tr>\n",
       "      <th>2</th>\n",
       "      <td>0052</td>\n",
       "      <td>富邦科技</td>\n",
       "      <td>718,096</td>\n",
       "      <td>675</td>\n",
       "      <td>103,446,258</td>\n",
       "      <td>145.30</td>\n",
       "      <td>145.30</td>\n",
       "      <td>143.20</td>\n",
       "      <td>144.30</td>\n",
       "      <td>&lt;p style= color:green&gt;-&lt;/p&gt;</td>\n",
       "      <td>0.75</td>\n",
       "      <td>144.30</td>\n",
       "      <td>27</td>\n",
       "      <td>144.40</td>\n",
       "      <td>18</td>\n",
       "      <td>0.00</td>\n",
       "    </tr>\n",
       "    <tr>\n",
       "      <th>3</th>\n",
       "      <td>0053</td>\n",
       "      <td>元大電子</td>\n",
       "      <td>10,526</td>\n",
       "      <td>84</td>\n",
       "      <td>824,634</td>\n",
       "      <td>78.65</td>\n",
       "      <td>78.65</td>\n",
       "      <td>78.25</td>\n",
       "      <td>78.30</td>\n",
       "      <td>&lt;p style= color:green&gt;-&lt;/p&gt;</td>\n",
       "      <td>0.35</td>\n",
       "      <td>78.25</td>\n",
       "      <td>1</td>\n",
       "      <td>78.45</td>\n",
       "      <td>23</td>\n",
       "      <td>0.00</td>\n",
       "    </tr>\n",
       "  </tbody>\n",
       "</table>\n",
       "</div>"
      ],
      "text/plain": [
       "   證券代號     證券名稱     成交股數 成交筆數         成交金額     開盤價     最高價     最低價     收盤價  \\\n",
       "1  0051  元大中型100   57,037  268    4,344,737   76.65   77.00   75.55   76.15   \n",
       "2  0052     富邦科技  718,096  675  103,446,258  145.30  145.30  143.20  144.30   \n",
       "3  0053     元大電子   10,526   84      824,634   78.65   78.65   78.25   78.30   \n",
       "\n",
       "                       漲跌(+/-)  漲跌價差  最後揭示買價 最後揭示買量  最後揭示賣價 最後揭示賣量   本益比  \n",
       "1  <p style= color:green>-</p>  0.35   76.15      1   76.20     31  0.00  \n",
       "2  <p style= color:green>-</p>  0.75  144.30     27  144.40     18  0.00  \n",
       "3  <p style= color:green>-</p>  0.35   78.25      1   78.45     23  0.00  "
      ]
     },
     "execution_count": 65,
     "metadata": {},
     "output_type": "execute_result"
    }
   ],
   "source": [
    "stock.iloc[1:4] "
   ]
  },
  {
   "cell_type": "markdown",
   "metadata": {},
   "source": [
    "#### 取出\"位置\"在第二筆第二行的資料\n",
    "#### iat[ , ] 只能訪問單個元素"
   ]
  },
  {
   "cell_type": "code",
   "execution_count": 64,
   "metadata": {
    "scrolled": false
   },
   "outputs": [
    {
     "data": {
      "text/plain": [
       "'元大中型100'"
      ]
     },
     "execution_count": 64,
     "metadata": {},
     "output_type": "execute_result"
    }
   ],
   "source": [
    "stock.iat[1,1] #start from 0"
   ]
  },
  {
   "cell_type": "markdown",
   "metadata": {},
   "source": [
    "### Slice by index - loc\n",
    "#### 取出row index為 0到2的值\n",
    "#### loc[ ] 含頭也含尾"
   ]
  },
  {
   "cell_type": "code",
   "execution_count": 66,
   "metadata": {},
   "outputs": [
    {
     "data": {
      "text/html": [
       "<div>\n",
       "<style scoped>\n",
       "    .dataframe tbody tr th:only-of-type {\n",
       "        vertical-align: middle;\n",
       "    }\n",
       "\n",
       "    .dataframe tbody tr th {\n",
       "        vertical-align: top;\n",
       "    }\n",
       "\n",
       "    .dataframe thead th {\n",
       "        text-align: right;\n",
       "    }\n",
       "</style>\n",
       "<table border=\"1\" class=\"dataframe\">\n",
       "  <thead>\n",
       "    <tr style=\"text-align: right;\">\n",
       "      <th></th>\n",
       "      <th>證券代號</th>\n",
       "      <th>證券名稱</th>\n",
       "      <th>成交股數</th>\n",
       "      <th>成交筆數</th>\n",
       "      <th>成交金額</th>\n",
       "      <th>開盤價</th>\n",
       "      <th>最高價</th>\n",
       "      <th>最低價</th>\n",
       "      <th>收盤價</th>\n",
       "      <th>漲跌(+/-)</th>\n",
       "      <th>漲跌價差</th>\n",
       "      <th>最後揭示買價</th>\n",
       "      <th>最後揭示買量</th>\n",
       "      <th>最後揭示賣價</th>\n",
       "      <th>最後揭示賣量</th>\n",
       "      <th>本益比</th>\n",
       "    </tr>\n",
       "  </thead>\n",
       "  <tbody>\n",
       "    <tr>\n",
       "      <th>0</th>\n",
       "      <td>0050</td>\n",
       "      <td>元大台灣50</td>\n",
       "      <td>6,507,934</td>\n",
       "      <td>10,372</td>\n",
       "      <td>933,504,679</td>\n",
       "      <td>143.95</td>\n",
       "      <td>144.20</td>\n",
       "      <td>142.65</td>\n",
       "      <td>143.35</td>\n",
       "      <td>&lt;p style= color:green&gt;-&lt;/p&gt;</td>\n",
       "      <td>0.60</td>\n",
       "      <td>143.30</td>\n",
       "      <td>7</td>\n",
       "      <td>143.35</td>\n",
       "      <td>40</td>\n",
       "      <td>0.00</td>\n",
       "    </tr>\n",
       "    <tr>\n",
       "      <th>1</th>\n",
       "      <td>0051</td>\n",
       "      <td>元大中型100</td>\n",
       "      <td>57,037</td>\n",
       "      <td>268</td>\n",
       "      <td>4,344,737</td>\n",
       "      <td>76.65</td>\n",
       "      <td>77.00</td>\n",
       "      <td>75.55</td>\n",
       "      <td>76.15</td>\n",
       "      <td>&lt;p style= color:green&gt;-&lt;/p&gt;</td>\n",
       "      <td>0.35</td>\n",
       "      <td>76.15</td>\n",
       "      <td>1</td>\n",
       "      <td>76.20</td>\n",
       "      <td>31</td>\n",
       "      <td>0.00</td>\n",
       "    </tr>\n",
       "    <tr>\n",
       "      <th>2</th>\n",
       "      <td>0052</td>\n",
       "      <td>富邦科技</td>\n",
       "      <td>718,096</td>\n",
       "      <td>675</td>\n",
       "      <td>103,446,258</td>\n",
       "      <td>145.30</td>\n",
       "      <td>145.30</td>\n",
       "      <td>143.20</td>\n",
       "      <td>144.30</td>\n",
       "      <td>&lt;p style= color:green&gt;-&lt;/p&gt;</td>\n",
       "      <td>0.75</td>\n",
       "      <td>144.30</td>\n",
       "      <td>27</td>\n",
       "      <td>144.40</td>\n",
       "      <td>18</td>\n",
       "      <td>0.00</td>\n",
       "    </tr>\n",
       "  </tbody>\n",
       "</table>\n",
       "</div>"
      ],
      "text/plain": [
       "   證券代號     證券名稱       成交股數    成交筆數         成交金額     開盤價     最高價     最低價  \\\n",
       "0  0050   元大台灣50  6,507,934  10,372  933,504,679  143.95  144.20  142.65   \n",
       "1  0051  元大中型100     57,037     268    4,344,737   76.65   77.00   75.55   \n",
       "2  0052     富邦科技    718,096     675  103,446,258  145.30  145.30  143.20   \n",
       "\n",
       "      收盤價                      漲跌(+/-)  漲跌價差  最後揭示買價 最後揭示買量  最後揭示賣價 最後揭示賣量  \\\n",
       "0  143.35  <p style= color:green>-</p>  0.60  143.30      7  143.35     40   \n",
       "1   76.15  <p style= color:green>-</p>  0.35   76.15      1   76.20     31   \n",
       "2  144.30  <p style= color:green>-</p>  0.75  144.30     27  144.40     18   \n",
       "\n",
       "    本益比  \n",
       "0  0.00  \n",
       "1  0.00  \n",
       "2  0.00  "
      ]
     },
     "execution_count": 66,
     "metadata": {},
     "output_type": "execute_result"
    }
   ],
   "source": [
    "stock.loc[0:2]"
   ]
  },
  {
   "cell_type": "markdown",
   "metadata": {},
   "source": [
    "取出row index從0到3且column index從\"開盤價\"到\"收盤價\"的值"
   ]
  },
  {
   "cell_type": "code",
   "execution_count": 67,
   "metadata": {},
   "outputs": [
    {
     "data": {
      "text/html": [
       "<div>\n",
       "<style scoped>\n",
       "    .dataframe tbody tr th:only-of-type {\n",
       "        vertical-align: middle;\n",
       "    }\n",
       "\n",
       "    .dataframe tbody tr th {\n",
       "        vertical-align: top;\n",
       "    }\n",
       "\n",
       "    .dataframe thead th {\n",
       "        text-align: right;\n",
       "    }\n",
       "</style>\n",
       "<table border=\"1\" class=\"dataframe\">\n",
       "  <thead>\n",
       "    <tr style=\"text-align: right;\">\n",
       "      <th></th>\n",
       "      <th>開盤價</th>\n",
       "      <th>最高價</th>\n",
       "      <th>最低價</th>\n",
       "      <th>收盤價</th>\n",
       "    </tr>\n",
       "  </thead>\n",
       "  <tbody>\n",
       "    <tr>\n",
       "      <th>0</th>\n",
       "      <td>143.95</td>\n",
       "      <td>144.20</td>\n",
       "      <td>142.65</td>\n",
       "      <td>143.35</td>\n",
       "    </tr>\n",
       "    <tr>\n",
       "      <th>1</th>\n",
       "      <td>76.65</td>\n",
       "      <td>77.00</td>\n",
       "      <td>75.55</td>\n",
       "      <td>76.15</td>\n",
       "    </tr>\n",
       "    <tr>\n",
       "      <th>2</th>\n",
       "      <td>145.30</td>\n",
       "      <td>145.30</td>\n",
       "      <td>143.20</td>\n",
       "      <td>144.30</td>\n",
       "    </tr>\n",
       "    <tr>\n",
       "      <th>3</th>\n",
       "      <td>78.65</td>\n",
       "      <td>78.65</td>\n",
       "      <td>78.25</td>\n",
       "      <td>78.30</td>\n",
       "    </tr>\n",
       "  </tbody>\n",
       "</table>\n",
       "</div>"
      ],
      "text/plain": [
       "      開盤價     最高價     最低價     收盤價\n",
       "0  143.95  144.20  142.65  143.35\n",
       "1   76.65   77.00   75.55   76.15\n",
       "2  145.30  145.30  143.20  144.30\n",
       "3   78.65   78.65   78.25   78.30"
      ]
     },
     "execution_count": 67,
     "metadata": {},
     "output_type": "execute_result"
    }
   ],
   "source": [
    "stock.loc[0:3, \"開盤價\":\"收盤價\"]"
   ]
  },
  {
   "cell_type": "markdown",
   "metadata": {},
   "source": [
    "### 資料篩選 - Mask\n",
    "#### 透過 loc 以Mask的方式擷取所需的資料"
   ]
  },
  {
   "cell_type": "markdown",
   "metadata": {},
   "source": [
    "取出row index小於5的資料"
   ]
  },
  {
   "cell_type": "code",
   "execution_count": 68,
   "metadata": {
    "scrolled": false
   },
   "outputs": [
    {
     "data": {
      "text/html": [
       "<div>\n",
       "<style scoped>\n",
       "    .dataframe tbody tr th:only-of-type {\n",
       "        vertical-align: middle;\n",
       "    }\n",
       "\n",
       "    .dataframe tbody tr th {\n",
       "        vertical-align: top;\n",
       "    }\n",
       "\n",
       "    .dataframe thead th {\n",
       "        text-align: right;\n",
       "    }\n",
       "</style>\n",
       "<table border=\"1\" class=\"dataframe\">\n",
       "  <thead>\n",
       "    <tr style=\"text-align: right;\">\n",
       "      <th></th>\n",
       "      <th>證券代號</th>\n",
       "      <th>證券名稱</th>\n",
       "      <th>成交股數</th>\n",
       "      <th>成交筆數</th>\n",
       "      <th>成交金額</th>\n",
       "      <th>開盤價</th>\n",
       "      <th>最高價</th>\n",
       "      <th>最低價</th>\n",
       "      <th>收盤價</th>\n",
       "      <th>漲跌(+/-)</th>\n",
       "      <th>漲跌價差</th>\n",
       "      <th>最後揭示買價</th>\n",
       "      <th>最後揭示買量</th>\n",
       "      <th>最後揭示賣價</th>\n",
       "      <th>最後揭示賣量</th>\n",
       "      <th>本益比</th>\n",
       "    </tr>\n",
       "  </thead>\n",
       "  <tbody>\n",
       "    <tr>\n",
       "      <th>0</th>\n",
       "      <td>0050</td>\n",
       "      <td>元大台灣50</td>\n",
       "      <td>6,507,934</td>\n",
       "      <td>10,372</td>\n",
       "      <td>933,504,679</td>\n",
       "      <td>143.95</td>\n",
       "      <td>144.20</td>\n",
       "      <td>142.65</td>\n",
       "      <td>143.35</td>\n",
       "      <td>&lt;p style= color:green&gt;-&lt;/p&gt;</td>\n",
       "      <td>0.60</td>\n",
       "      <td>143.30</td>\n",
       "      <td>7</td>\n",
       "      <td>143.35</td>\n",
       "      <td>40</td>\n",
       "      <td>0.00</td>\n",
       "    </tr>\n",
       "    <tr>\n",
       "      <th>1</th>\n",
       "      <td>0051</td>\n",
       "      <td>元大中型100</td>\n",
       "      <td>57,037</td>\n",
       "      <td>268</td>\n",
       "      <td>4,344,737</td>\n",
       "      <td>76.65</td>\n",
       "      <td>77.00</td>\n",
       "      <td>75.55</td>\n",
       "      <td>76.15</td>\n",
       "      <td>&lt;p style= color:green&gt;-&lt;/p&gt;</td>\n",
       "      <td>0.35</td>\n",
       "      <td>76.15</td>\n",
       "      <td>1</td>\n",
       "      <td>76.20</td>\n",
       "      <td>31</td>\n",
       "      <td>0.00</td>\n",
       "    </tr>\n",
       "    <tr>\n",
       "      <th>2</th>\n",
       "      <td>0052</td>\n",
       "      <td>富邦科技</td>\n",
       "      <td>718,096</td>\n",
       "      <td>675</td>\n",
       "      <td>103,446,258</td>\n",
       "      <td>145.30</td>\n",
       "      <td>145.30</td>\n",
       "      <td>143.20</td>\n",
       "      <td>144.30</td>\n",
       "      <td>&lt;p style= color:green&gt;-&lt;/p&gt;</td>\n",
       "      <td>0.75</td>\n",
       "      <td>144.30</td>\n",
       "      <td>27</td>\n",
       "      <td>144.40</td>\n",
       "      <td>18</td>\n",
       "      <td>0.00</td>\n",
       "    </tr>\n",
       "    <tr>\n",
       "      <th>3</th>\n",
       "      <td>0053</td>\n",
       "      <td>元大電子</td>\n",
       "      <td>10,526</td>\n",
       "      <td>84</td>\n",
       "      <td>824,634</td>\n",
       "      <td>78.65</td>\n",
       "      <td>78.65</td>\n",
       "      <td>78.25</td>\n",
       "      <td>78.30</td>\n",
       "      <td>&lt;p style= color:green&gt;-&lt;/p&gt;</td>\n",
       "      <td>0.35</td>\n",
       "      <td>78.25</td>\n",
       "      <td>1</td>\n",
       "      <td>78.45</td>\n",
       "      <td>23</td>\n",
       "      <td>0.00</td>\n",
       "    </tr>\n",
       "    <tr>\n",
       "      <th>4</th>\n",
       "      <td>0055</td>\n",
       "      <td>元大MSCI金融</td>\n",
       "      <td>227,513</td>\n",
       "      <td>270</td>\n",
       "      <td>5,408,153</td>\n",
       "      <td>23.80</td>\n",
       "      <td>23.89</td>\n",
       "      <td>23.71</td>\n",
       "      <td>23.75</td>\n",
       "      <td>&lt;p style= color:green&gt;-&lt;/p&gt;</td>\n",
       "      <td>0.05</td>\n",
       "      <td>23.74</td>\n",
       "      <td>1</td>\n",
       "      <td>23.75</td>\n",
       "      <td>8</td>\n",
       "      <td>0.00</td>\n",
       "    </tr>\n",
       "  </tbody>\n",
       "</table>\n",
       "</div>"
      ],
      "text/plain": [
       "   證券代號      證券名稱       成交股數    成交筆數         成交金額     開盤價     最高價     最低價  \\\n",
       "0  0050    元大台灣50  6,507,934  10,372  933,504,679  143.95  144.20  142.65   \n",
       "1  0051   元大中型100     57,037     268    4,344,737   76.65   77.00   75.55   \n",
       "2  0052      富邦科技    718,096     675  103,446,258  145.30  145.30  143.20   \n",
       "3  0053      元大電子     10,526      84      824,634   78.65   78.65   78.25   \n",
       "4  0055  元大MSCI金融    227,513     270    5,408,153   23.80   23.89   23.71   \n",
       "\n",
       "      收盤價                      漲跌(+/-)  漲跌價差  最後揭示買價 最後揭示買量  最後揭示賣價 最後揭示賣量  \\\n",
       "0  143.35  <p style= color:green>-</p>  0.60  143.30      7  143.35     40   \n",
       "1   76.15  <p style= color:green>-</p>  0.35   76.15      1   76.20     31   \n",
       "2  144.30  <p style= color:green>-</p>  0.75  144.30     27  144.40     18   \n",
       "3   78.30  <p style= color:green>-</p>  0.35   78.25      1   78.45     23   \n",
       "4   23.75  <p style= color:green>-</p>  0.05   23.74      1   23.75      8   \n",
       "\n",
       "    本益比  \n",
       "0  0.00  \n",
       "1  0.00  \n",
       "2  0.00  \n",
       "3  0.00  \n",
       "4  0.00  "
      ]
     },
     "execution_count": 68,
     "metadata": {},
     "output_type": "execute_result"
    }
   ],
   "source": [
    "stock.loc[stock.index < 5]"
   ]
  },
  {
   "cell_type": "markdown",
   "metadata": {},
   "source": [
    "複數條件篩選 - row index 大於5且小於10的資料"
   ]
  },
  {
   "cell_type": "code",
   "execution_count": 69,
   "metadata": {
    "scrolled": true
   },
   "outputs": [
    {
     "data": {
      "text/html": [
       "<div>\n",
       "<style scoped>\n",
       "    .dataframe tbody tr th:only-of-type {\n",
       "        vertical-align: middle;\n",
       "    }\n",
       "\n",
       "    .dataframe tbody tr th {\n",
       "        vertical-align: top;\n",
       "    }\n",
       "\n",
       "    .dataframe thead th {\n",
       "        text-align: right;\n",
       "    }\n",
       "</style>\n",
       "<table border=\"1\" class=\"dataframe\">\n",
       "  <thead>\n",
       "    <tr style=\"text-align: right;\">\n",
       "      <th></th>\n",
       "      <th>證券代號</th>\n",
       "      <th>證券名稱</th>\n",
       "      <th>成交股數</th>\n",
       "      <th>成交筆數</th>\n",
       "      <th>成交金額</th>\n",
       "      <th>開盤價</th>\n",
       "      <th>最高價</th>\n",
       "      <th>最低價</th>\n",
       "      <th>收盤價</th>\n",
       "      <th>漲跌(+/-)</th>\n",
       "      <th>漲跌價差</th>\n",
       "      <th>最後揭示買價</th>\n",
       "      <th>最後揭示買量</th>\n",
       "      <th>最後揭示賣價</th>\n",
       "      <th>最後揭示賣量</th>\n",
       "      <th>本益比</th>\n",
       "    </tr>\n",
       "  </thead>\n",
       "  <tbody>\n",
       "    <tr>\n",
       "      <th>6</th>\n",
       "      <td>0057</td>\n",
       "      <td>富邦摩台</td>\n",
       "      <td>14,018</td>\n",
       "      <td>105</td>\n",
       "      <td>1,504,493</td>\n",
       "      <td>107.75</td>\n",
       "      <td>107.90</td>\n",
       "      <td>106.65</td>\n",
       "      <td>106.95</td>\n",
       "      <td>&lt;p style= color:green&gt;-&lt;/p&gt;</td>\n",
       "      <td>0.60</td>\n",
       "      <td>107.00</td>\n",
       "      <td>25</td>\n",
       "      <td>107.25</td>\n",
       "      <td>20</td>\n",
       "      <td>0.00</td>\n",
       "    </tr>\n",
       "    <tr>\n",
       "      <th>7</th>\n",
       "      <td>0061</td>\n",
       "      <td>元大寶滬深</td>\n",
       "      <td>457,635</td>\n",
       "      <td>201</td>\n",
       "      <td>7,562,068</td>\n",
       "      <td>16.58</td>\n",
       "      <td>16.61</td>\n",
       "      <td>16.45</td>\n",
       "      <td>16.56</td>\n",
       "      <td>&lt;p style= color:red&gt;+&lt;/p&gt;</td>\n",
       "      <td>0.05</td>\n",
       "      <td>16.55</td>\n",
       "      <td>4</td>\n",
       "      <td>16.56</td>\n",
       "      <td>3</td>\n",
       "      <td>0.00</td>\n",
       "    </tr>\n",
       "    <tr>\n",
       "      <th>8</th>\n",
       "      <td>006203</td>\n",
       "      <td>元大MSCI台灣</td>\n",
       "      <td>6,301</td>\n",
       "      <td>64</td>\n",
       "      <td>435,791</td>\n",
       "      <td>69.30</td>\n",
       "      <td>69.30</td>\n",
       "      <td>69.00</td>\n",
       "      <td>69.00</td>\n",
       "      <td>&lt;p style= color:green&gt;-&lt;/p&gt;</td>\n",
       "      <td>0.30</td>\n",
       "      <td>68.70</td>\n",
       "      <td>1</td>\n",
       "      <td>69.00</td>\n",
       "      <td>1</td>\n",
       "      <td>0.00</td>\n",
       "    </tr>\n",
       "    <tr>\n",
       "      <th>9</th>\n",
       "      <td>006204</td>\n",
       "      <td>永豐臺灣加權</td>\n",
       "      <td>4,876</td>\n",
       "      <td>96</td>\n",
       "      <td>457,604</td>\n",
       "      <td>93.75</td>\n",
       "      <td>93.75</td>\n",
       "      <td>93.75</td>\n",
       "      <td>93.75</td>\n",
       "      <td>&lt;p style= color:green&gt;-&lt;/p&gt;</td>\n",
       "      <td>0.40</td>\n",
       "      <td>93.35</td>\n",
       "      <td>50</td>\n",
       "      <td>93.75</td>\n",
       "      <td>32</td>\n",
       "      <td>0.00</td>\n",
       "    </tr>\n",
       "  </tbody>\n",
       "</table>\n",
       "</div>"
      ],
      "text/plain": [
       "     證券代號      證券名稱     成交股數 成交筆數       成交金額     開盤價     最高價     最低價     收盤價  \\\n",
       "6    0057      富邦摩台   14,018  105  1,504,493  107.75  107.90  106.65  106.95   \n",
       "7    0061     元大寶滬深  457,635  201  7,562,068   16.58   16.61   16.45   16.56   \n",
       "8  006203  元大MSCI台灣    6,301   64    435,791   69.30   69.30   69.00   69.00   \n",
       "9  006204    永豐臺灣加權    4,876   96    457,604   93.75   93.75   93.75   93.75   \n",
       "\n",
       "                       漲跌(+/-)  漲跌價差  最後揭示買價 最後揭示買量  最後揭示賣價 最後揭示賣量   本益比  \n",
       "6  <p style= color:green>-</p>  0.60  107.00     25  107.25     20  0.00  \n",
       "7    <p style= color:red>+</p>  0.05   16.55      4   16.56      3  0.00  \n",
       "8  <p style= color:green>-</p>  0.30   68.70      1   69.00      1  0.00  \n",
       "9  <p style= color:green>-</p>  0.40   93.35     50   93.75     32  0.00  "
      ]
     },
     "execution_count": 69,
     "metadata": {},
     "output_type": "execute_result"
    }
   ],
   "source": [
    "stock.loc[(stock.index > 5) & (stock.index < 10)]"
   ]
  },
  {
   "cell_type": "markdown",
   "metadata": {},
   "source": [
    "## 型別轉換\n",
    "#### 在資料中\"最高價\"被儲存為字串，我們可以將其轉換為數值方便計算。"
   ]
  },
  {
   "cell_type": "code",
   "execution_count": 70,
   "metadata": {
    "scrolled": false
   },
   "outputs": [
    {
     "name": "stdout",
     "output_type": "stream",
     "text": [
      "<class 'str'>\n"
     ]
    },
    {
     "data": {
      "text/plain": [
       "'144.20'"
      ]
     },
     "execution_count": 70,
     "metadata": {},
     "output_type": "execute_result"
    }
   ],
   "source": [
    "print(type(stock.最高價[0]))\n",
    "stock.最高價[0]"
   ]
  },
  {
   "cell_type": "markdown",
   "metadata": {},
   "source": [
    "#### 使用astype將字串轉為float"
   ]
  },
  {
   "cell_type": "code",
   "execution_count": 71,
   "metadata": {},
   "outputs": [
    {
     "data": {
      "text/plain": [
       "0    144.20\n",
       "1     77.00\n",
       "2    145.30\n",
       "3     78.65\n",
       "4     23.89\n",
       "Name: 最高價, dtype: float64"
      ]
     },
     "execution_count": 71,
     "metadata": {},
     "output_type": "execute_result"
    }
   ],
   "source": [
    "stock.最高價.head().astype(\"float\")"
   ]
  },
  {
   "cell_type": "markdown",
   "metadata": {},
   "source": [
    "##### could not convert string to float: '--'\n",
    "#### 在轉換的過程中出現無法解析的字串時便會發生錯誤"
   ]
  },
  {
   "cell_type": "code",
   "execution_count": 72,
   "metadata": {},
   "outputs": [
    {
     "ename": "ValueError",
     "evalue": "could not convert string to float: '--'",
     "output_type": "error",
     "traceback": [
      "\u001b[1;31m---------------------------------------------------------------------------\u001b[0m",
      "\u001b[1;31mValueError\u001b[0m                                Traceback (most recent call last)",
      "Cell \u001b[1;32mIn[72], line 1\u001b[0m\n\u001b[1;32m----> 1\u001b[0m stock\u001b[38;5;241m.\u001b[39m最高價\u001b[38;5;241m.\u001b[39mastype(\u001b[38;5;124m\"\u001b[39m\u001b[38;5;124mfloat\u001b[39m\u001b[38;5;124m\"\u001b[39m)\n",
      "File \u001b[1;32m~\\anaconda3\\Lib\\site-packages\\pandas\\core\\generic.py:6324\u001b[0m, in \u001b[0;36mNDFrame.astype\u001b[1;34m(self, dtype, copy, errors)\u001b[0m\n\u001b[0;32m   6317\u001b[0m     results \u001b[38;5;241m=\u001b[39m [\n\u001b[0;32m   6318\u001b[0m         \u001b[38;5;28mself\u001b[39m\u001b[38;5;241m.\u001b[39miloc[:, i]\u001b[38;5;241m.\u001b[39mastype(dtype, copy\u001b[38;5;241m=\u001b[39mcopy)\n\u001b[0;32m   6319\u001b[0m         \u001b[38;5;28;01mfor\u001b[39;00m i \u001b[38;5;129;01min\u001b[39;00m \u001b[38;5;28mrange\u001b[39m(\u001b[38;5;28mlen\u001b[39m(\u001b[38;5;28mself\u001b[39m\u001b[38;5;241m.\u001b[39mcolumns))\n\u001b[0;32m   6320\u001b[0m     ]\n\u001b[0;32m   6322\u001b[0m \u001b[38;5;28;01melse\u001b[39;00m:\n\u001b[0;32m   6323\u001b[0m     \u001b[38;5;66;03m# else, only a single dtype is given\u001b[39;00m\n\u001b[1;32m-> 6324\u001b[0m     new_data \u001b[38;5;241m=\u001b[39m \u001b[38;5;28mself\u001b[39m\u001b[38;5;241m.\u001b[39m_mgr\u001b[38;5;241m.\u001b[39mastype(dtype\u001b[38;5;241m=\u001b[39mdtype, copy\u001b[38;5;241m=\u001b[39mcopy, errors\u001b[38;5;241m=\u001b[39merrors)\n\u001b[0;32m   6325\u001b[0m     \u001b[38;5;28;01mreturn\u001b[39;00m \u001b[38;5;28mself\u001b[39m\u001b[38;5;241m.\u001b[39m_constructor(new_data)\u001b[38;5;241m.\u001b[39m__finalize__(\u001b[38;5;28mself\u001b[39m, method\u001b[38;5;241m=\u001b[39m\u001b[38;5;124m\"\u001b[39m\u001b[38;5;124mastype\u001b[39m\u001b[38;5;124m\"\u001b[39m)\n\u001b[0;32m   6327\u001b[0m \u001b[38;5;66;03m# GH 33113: handle empty frame or series\u001b[39;00m\n",
      "File \u001b[1;32m~\\anaconda3\\Lib\\site-packages\\pandas\\core\\internals\\managers.py:451\u001b[0m, in \u001b[0;36mBaseBlockManager.astype\u001b[1;34m(self, dtype, copy, errors)\u001b[0m\n\u001b[0;32m    448\u001b[0m \u001b[38;5;28;01melif\u001b[39;00m using_copy_on_write():\n\u001b[0;32m    449\u001b[0m     copy \u001b[38;5;241m=\u001b[39m \u001b[38;5;28;01mFalse\u001b[39;00m\n\u001b[1;32m--> 451\u001b[0m \u001b[38;5;28;01mreturn\u001b[39;00m \u001b[38;5;28mself\u001b[39m\u001b[38;5;241m.\u001b[39mapply(\n\u001b[0;32m    452\u001b[0m     \u001b[38;5;124m\"\u001b[39m\u001b[38;5;124mastype\u001b[39m\u001b[38;5;124m\"\u001b[39m,\n\u001b[0;32m    453\u001b[0m     dtype\u001b[38;5;241m=\u001b[39mdtype,\n\u001b[0;32m    454\u001b[0m     copy\u001b[38;5;241m=\u001b[39mcopy,\n\u001b[0;32m    455\u001b[0m     errors\u001b[38;5;241m=\u001b[39merrors,\n\u001b[0;32m    456\u001b[0m     using_cow\u001b[38;5;241m=\u001b[39musing_copy_on_write(),\n\u001b[0;32m    457\u001b[0m )\n",
      "File \u001b[1;32m~\\anaconda3\\Lib\\site-packages\\pandas\\core\\internals\\managers.py:352\u001b[0m, in \u001b[0;36mBaseBlockManager.apply\u001b[1;34m(self, f, align_keys, **kwargs)\u001b[0m\n\u001b[0;32m    350\u001b[0m         applied \u001b[38;5;241m=\u001b[39m b\u001b[38;5;241m.\u001b[39mapply(f, \u001b[38;5;241m*\u001b[39m\u001b[38;5;241m*\u001b[39mkwargs)\n\u001b[0;32m    351\u001b[0m     \u001b[38;5;28;01melse\u001b[39;00m:\n\u001b[1;32m--> 352\u001b[0m         applied \u001b[38;5;241m=\u001b[39m \u001b[38;5;28mgetattr\u001b[39m(b, f)(\u001b[38;5;241m*\u001b[39m\u001b[38;5;241m*\u001b[39mkwargs)\n\u001b[0;32m    353\u001b[0m     result_blocks \u001b[38;5;241m=\u001b[39m extend_blocks(applied, result_blocks)\n\u001b[0;32m    355\u001b[0m out \u001b[38;5;241m=\u001b[39m \u001b[38;5;28mtype\u001b[39m(\u001b[38;5;28mself\u001b[39m)\u001b[38;5;241m.\u001b[39mfrom_blocks(result_blocks, \u001b[38;5;28mself\u001b[39m\u001b[38;5;241m.\u001b[39maxes)\n",
      "File \u001b[1;32m~\\anaconda3\\Lib\\site-packages\\pandas\\core\\internals\\blocks.py:511\u001b[0m, in \u001b[0;36mBlock.astype\u001b[1;34m(self, dtype, copy, errors, using_cow)\u001b[0m\n\u001b[0;32m    491\u001b[0m \u001b[38;5;250m\u001b[39m\u001b[38;5;124;03m\"\"\"\u001b[39;00m\n\u001b[0;32m    492\u001b[0m \u001b[38;5;124;03mCoerce to the new dtype.\u001b[39;00m\n\u001b[0;32m    493\u001b[0m \n\u001b[1;32m   (...)\u001b[0m\n\u001b[0;32m    507\u001b[0m \u001b[38;5;124;03mBlock\u001b[39;00m\n\u001b[0;32m    508\u001b[0m \u001b[38;5;124;03m\"\"\"\u001b[39;00m\n\u001b[0;32m    509\u001b[0m values \u001b[38;5;241m=\u001b[39m \u001b[38;5;28mself\u001b[39m\u001b[38;5;241m.\u001b[39mvalues\n\u001b[1;32m--> 511\u001b[0m new_values \u001b[38;5;241m=\u001b[39m astype_array_safe(values, dtype, copy\u001b[38;5;241m=\u001b[39mcopy, errors\u001b[38;5;241m=\u001b[39merrors)\n\u001b[0;32m    513\u001b[0m new_values \u001b[38;5;241m=\u001b[39m maybe_coerce_values(new_values)\n\u001b[0;32m    515\u001b[0m refs \u001b[38;5;241m=\u001b[39m \u001b[38;5;28;01mNone\u001b[39;00m\n",
      "File \u001b[1;32m~\\anaconda3\\Lib\\site-packages\\pandas\\core\\dtypes\\astype.py:242\u001b[0m, in \u001b[0;36mastype_array_safe\u001b[1;34m(values, dtype, copy, errors)\u001b[0m\n\u001b[0;32m    239\u001b[0m     dtype \u001b[38;5;241m=\u001b[39m dtype\u001b[38;5;241m.\u001b[39mnumpy_dtype\n\u001b[0;32m    241\u001b[0m \u001b[38;5;28;01mtry\u001b[39;00m:\n\u001b[1;32m--> 242\u001b[0m     new_values \u001b[38;5;241m=\u001b[39m astype_array(values, dtype, copy\u001b[38;5;241m=\u001b[39mcopy)\n\u001b[0;32m    243\u001b[0m \u001b[38;5;28;01mexcept\u001b[39;00m (\u001b[38;5;167;01mValueError\u001b[39;00m, \u001b[38;5;167;01mTypeError\u001b[39;00m):\n\u001b[0;32m    244\u001b[0m     \u001b[38;5;66;03m# e.g. _astype_nansafe can fail on object-dtype of strings\u001b[39;00m\n\u001b[0;32m    245\u001b[0m     \u001b[38;5;66;03m#  trying to convert to float\u001b[39;00m\n\u001b[0;32m    246\u001b[0m     \u001b[38;5;28;01mif\u001b[39;00m errors \u001b[38;5;241m==\u001b[39m \u001b[38;5;124m\"\u001b[39m\u001b[38;5;124mignore\u001b[39m\u001b[38;5;124m\"\u001b[39m:\n",
      "File \u001b[1;32m~\\anaconda3\\Lib\\site-packages\\pandas\\core\\dtypes\\astype.py:187\u001b[0m, in \u001b[0;36mastype_array\u001b[1;34m(values, dtype, copy)\u001b[0m\n\u001b[0;32m    184\u001b[0m     values \u001b[38;5;241m=\u001b[39m values\u001b[38;5;241m.\u001b[39mastype(dtype, copy\u001b[38;5;241m=\u001b[39mcopy)\n\u001b[0;32m    186\u001b[0m \u001b[38;5;28;01melse\u001b[39;00m:\n\u001b[1;32m--> 187\u001b[0m     values \u001b[38;5;241m=\u001b[39m _astype_nansafe(values, dtype, copy\u001b[38;5;241m=\u001b[39mcopy)\n\u001b[0;32m    189\u001b[0m \u001b[38;5;66;03m# in pandas we don't store numpy str dtypes, so convert to object\u001b[39;00m\n\u001b[0;32m    190\u001b[0m \u001b[38;5;28;01mif\u001b[39;00m \u001b[38;5;28misinstance\u001b[39m(dtype, np\u001b[38;5;241m.\u001b[39mdtype) \u001b[38;5;129;01mand\u001b[39;00m \u001b[38;5;28missubclass\u001b[39m(values\u001b[38;5;241m.\u001b[39mdtype\u001b[38;5;241m.\u001b[39mtype, \u001b[38;5;28mstr\u001b[39m):\n",
      "File \u001b[1;32m~\\anaconda3\\Lib\\site-packages\\pandas\\core\\dtypes\\astype.py:138\u001b[0m, in \u001b[0;36m_astype_nansafe\u001b[1;34m(arr, dtype, copy, skipna)\u001b[0m\n\u001b[0;32m    134\u001b[0m     \u001b[38;5;28;01mraise\u001b[39;00m \u001b[38;5;167;01mValueError\u001b[39;00m(msg)\n\u001b[0;32m    136\u001b[0m \u001b[38;5;28;01mif\u001b[39;00m copy \u001b[38;5;129;01mor\u001b[39;00m is_object_dtype(arr\u001b[38;5;241m.\u001b[39mdtype) \u001b[38;5;129;01mor\u001b[39;00m is_object_dtype(dtype):\n\u001b[0;32m    137\u001b[0m     \u001b[38;5;66;03m# Explicit copy, or required since NumPy can't view from / to object.\u001b[39;00m\n\u001b[1;32m--> 138\u001b[0m     \u001b[38;5;28;01mreturn\u001b[39;00m arr\u001b[38;5;241m.\u001b[39mastype(dtype, copy\u001b[38;5;241m=\u001b[39m\u001b[38;5;28;01mTrue\u001b[39;00m)\n\u001b[0;32m    140\u001b[0m \u001b[38;5;28;01mreturn\u001b[39;00m arr\u001b[38;5;241m.\u001b[39mastype(dtype, copy\u001b[38;5;241m=\u001b[39mcopy)\n",
      "\u001b[1;31mValueError\u001b[0m: could not convert string to float: '--'"
     ]
    }
   ],
   "source": [
    "stock.最高價.astype(\"float\")"
   ]
  },
  {
   "cell_type": "markdown",
   "metadata": {},
   "source": [
    "### 使用to_numeric進行轉換，errors參數可指定解析錯誤時的處理，\n",
    "#### 　　raise:  中斷執行，拋出例外。\n",
    "#### 　　ignore: 不進行轉換，回傳原值。\n",
    "#### 　　corece: 回傳 NaN"
   ]
  },
  {
   "cell_type": "code",
   "execution_count": 73,
   "metadata": {},
   "outputs": [],
   "source": [
    "stock.最高價 = pd.to_numeric(stock.最高價, errors='coerce', downcast='float')"
   ]
  },
  {
   "cell_type": "code",
   "execution_count": 75,
   "metadata": {},
   "outputs": [
    {
     "data": {
      "text/plain": [
       "0       False\n",
       "1       False\n",
       "2       False\n",
       "3       False\n",
       "4       False\n",
       "        ...  \n",
       "1221    False\n",
       "1222    False\n",
       "1223    False\n",
       "1224    False\n",
       "1225    False\n",
       "Name: 最高價, Length: 1226, dtype: bool"
      ]
     },
     "execution_count": 75,
     "metadata": {},
     "output_type": "execute_result"
    }
   ],
   "source": [
    "stock.最高價.isnull()  # 判斷缺失值"
   ]
  },
  {
   "cell_type": "code",
   "execution_count": 76,
   "metadata": {},
   "outputs": [
    {
     "data": {
      "text/plain": [
       "14     NaN\n",
       "29     NaN\n",
       "77     NaN\n",
       "166    NaN\n",
       "169    NaN\n",
       "170    NaN\n",
       "175    NaN\n",
       "184    NaN\n",
       "327    NaN\n",
       "419    NaN\n",
       "478    NaN\n",
       "555    NaN\n",
       "664    NaN\n",
       "701    NaN\n",
       "722    NaN\n",
       "803    NaN\n",
       "816    NaN\n",
       "837    NaN\n",
       "939    NaN\n",
       "1027   NaN\n",
       "1077   NaN\n",
       "1209   NaN\n",
       "Name: 最高價, dtype: float32"
      ]
     },
     "execution_count": 76,
     "metadata": {},
     "output_type": "execute_result"
    }
   ],
   "source": [
    "stock.最高價[stock.最高價.isnull()]#查看所有轉換後為NaN的值"
   ]
  },
  {
   "cell_type": "markdown",
   "metadata": {},
   "source": [
    "## 使用describe快速了解資料\n",
    "#### describe根據資料型別，計算簡單的統計結果。"
   ]
  },
  {
   "cell_type": "code",
   "execution_count": 77,
   "metadata": {
    "scrolled": true
   },
   "outputs": [
    {
     "data": {
      "text/plain": [
       "count    1204.000000\n",
       "mean       70.298210\n",
       "std       100.772469\n",
       "min         1.180000\n",
       "25%        19.887501\n",
       "50%        36.895000\n",
       "75%        74.025002\n",
       "max       970.000000\n",
       "Name: 最高價, dtype: float64"
      ]
     },
     "execution_count": 77,
     "metadata": {},
     "output_type": "execute_result"
    }
   ],
   "source": [
    "stock.最高價.describe()"
   ]
  },
  {
   "cell_type": "markdown",
   "metadata": {},
   "source": [
    "# 資料取代\n",
    "在\"漲跌(+/-)\"中資料被儲存為HTML格式，我們將其取代為boolean格式以方便計算。"
   ]
  },
  {
   "cell_type": "markdown",
   "metadata": {},
   "source": [
    "### 透過使用value_counts查看有多少種不同的值以及其出現次數。\n",
    "\n",
    "##### *空值將不會出現以及計算出現次數。*"
   ]
  },
  {
   "cell_type": "code",
   "execution_count": 78,
   "metadata": {},
   "outputs": [
    {
     "data": {
      "text/plain": [
       "漲跌(+/-)\n",
       "<p style= color:green>-</p>    799\n",
       "<p style= color:red>+</p>      300\n",
       "<p> </p>                       116\n",
       "<p>X</p>                        11\n",
       "Name: count, dtype: int64"
      ]
     },
     "execution_count": 78,
     "metadata": {},
     "output_type": "execute_result"
    }
   ],
   "source": [
    "stock['漲跌(+/-)'].value_counts()"
   ]
  },
  {
   "cell_type": "markdown",
   "metadata": {},
   "source": [
    "### 取代資料中的 + 資料為True\n",
    "### 使用 replace() 進行批次替換"
   ]
  },
  {
   "cell_type": "code",
   "execution_count": 82,
   "metadata": {
    "scrolled": true
   },
   "outputs": [
    {
     "data": {
      "text/plain": [
       "0    <p style= color:green>-</p>\n",
       "1    <p style= color:green>-</p>\n",
       "2    <p style= color:green>-</p>\n",
       "3    <p style= color:green>-</p>\n",
       "4    <p style= color:green>-</p>\n",
       "5    <p style= color:green>-</p>\n",
       "6    <p style= color:green>-</p>\n",
       "7                           True\n",
       "8    <p style= color:green>-</p>\n",
       "9    <p style= color:green>-</p>\n",
       "Name: 漲跌(+/-), dtype: object"
      ]
     },
     "execution_count": 82,
     "metadata": {},
     "output_type": "execute_result"
    }
   ],
   "source": [
    "stock['漲跌(+/-)'].replace('<p style= color:red>+</p>', True).head(10)"
   ]
  },
  {
   "cell_type": "markdown",
   "metadata": {},
   "source": [
    "### 也可一次指定多筆取代操作"
   ]
  },
  {
   "cell_type": "code",
   "execution_count": 83,
   "metadata": {},
   "outputs": [
    {
     "data": {
      "text/plain": [
       "漲跌(+/-)\n",
       "False       799\n",
       "True        300\n",
       "<p> </p>    116\n",
       "<p>X</p>     11\n",
       "Name: count, dtype: int64"
      ]
     },
     "execution_count": 83,
     "metadata": {},
     "output_type": "execute_result"
    }
   ],
   "source": [
    "replace_map = {\"<p style= color:red>+</p>\":True, \"<p style= color:green>-</p>\":False}\n",
    "stock['漲跌(+/-)'].replace(replace_map).value_counts()"
   ]
  },
  {
   "cell_type": "markdown",
   "metadata": {},
   "source": [
    "## 使用map取代資料\n",
    "### replace只將所有符合的字串取代\n",
    "### 可利用map將其餘值轉換為NaN方便計算"
   ]
  },
  {
   "cell_type": "code",
   "execution_count": 84,
   "metadata": {},
   "outputs": [
    {
     "data": {
      "text/plain": [
       "漲跌(+/-)\n",
       "False    799\n",
       "True     300\n",
       "Name: count, dtype: int64"
      ]
     },
     "execution_count": 84,
     "metadata": {},
     "output_type": "execute_result"
    }
   ],
   "source": [
    "replace_map = {\"<p style= color:red>+</p>\":True, \"<p style= color:green>-</p>\":False, True:True, False:False}\n",
    "#keep True as True, False as False\n",
    "\n",
    "stock['漲跌(+/-)'] = stock['漲跌(+/-)'].map(replace_map)\n",
    "stock['漲跌(+/-)'].value_counts() #not include nan"
   ]
  },
  {
   "cell_type": "markdown",
   "metadata": {},
   "source": [
    "### 使用isnull計算空值數量"
   ]
  },
  {
   "cell_type": "code",
   "execution_count": 85,
   "metadata": {},
   "outputs": [
    {
     "data": {
      "text/plain": [
       "127"
      ]
     },
     "execution_count": 85,
     "metadata": {},
     "output_type": "execute_result"
    }
   ],
   "source": [
    "stock['漲跌(+/-)'].isnull().sum()"
   ]
  },
  {
   "cell_type": "markdown",
   "metadata": {},
   "source": [
    "### 使用isnull構成mask查詢'漲跌(+/-)'為空值的資料，若是想要查詢'漲跌(+/-)'非空值的資料可使用notnull。"
   ]
  },
  {
   "cell_type": "code",
   "execution_count": 86,
   "metadata": {
    "scrolled": false
   },
   "outputs": [
    {
     "data": {
      "text/html": [
       "<div>\n",
       "<style scoped>\n",
       "    .dataframe tbody tr th:only-of-type {\n",
       "        vertical-align: middle;\n",
       "    }\n",
       "\n",
       "    .dataframe tbody tr th {\n",
       "        vertical-align: top;\n",
       "    }\n",
       "\n",
       "    .dataframe thead th {\n",
       "        text-align: right;\n",
       "    }\n",
       "</style>\n",
       "<table border=\"1\" class=\"dataframe\">\n",
       "  <thead>\n",
       "    <tr style=\"text-align: right;\">\n",
       "      <th></th>\n",
       "      <th>證券代號</th>\n",
       "      <th>證券名稱</th>\n",
       "      <th>成交股數</th>\n",
       "      <th>成交筆數</th>\n",
       "      <th>成交金額</th>\n",
       "      <th>開盤價</th>\n",
       "      <th>最高價</th>\n",
       "      <th>最低價</th>\n",
       "      <th>收盤價</th>\n",
       "      <th>漲跌(+/-)</th>\n",
       "      <th>漲跌價差</th>\n",
       "      <th>最後揭示買價</th>\n",
       "      <th>最後揭示買量</th>\n",
       "      <th>最後揭示賣價</th>\n",
       "      <th>最後揭示賣量</th>\n",
       "      <th>本益比</th>\n",
       "    </tr>\n",
       "  </thead>\n",
       "  <tbody>\n",
       "    <tr>\n",
       "      <th>12</th>\n",
       "      <td>006207</td>\n",
       "      <td>復華滬深</td>\n",
       "      <td>568,317</td>\n",
       "      <td>188</td>\n",
       "      <td>12,255,599</td>\n",
       "      <td>21.51</td>\n",
       "      <td>21.709999</td>\n",
       "      <td>21.51</td>\n",
       "      <td>21.71</td>\n",
       "      <td>NaN</td>\n",
       "      <td>0.00</td>\n",
       "      <td>21.71</td>\n",
       "      <td>1</td>\n",
       "      <td>21.72</td>\n",
       "      <td>155</td>\n",
       "      <td>0.00</td>\n",
       "    </tr>\n",
       "    <tr>\n",
       "      <th>14</th>\n",
       "      <td>00625K</td>\n",
       "      <td>富邦上証+R</td>\n",
       "      <td>0</td>\n",
       "      <td>0</td>\n",
       "      <td>0</td>\n",
       "      <td>--</td>\n",
       "      <td>NaN</td>\n",
       "      <td>--</td>\n",
       "      <td>--</td>\n",
       "      <td>NaN</td>\n",
       "      <td>0.00</td>\n",
       "      <td>6.54</td>\n",
       "      <td>5</td>\n",
       "      <td>6.59</td>\n",
       "      <td>5</td>\n",
       "      <td>0.00</td>\n",
       "    </tr>\n",
       "    <tr>\n",
       "      <th>18</th>\n",
       "      <td>00634R</td>\n",
       "      <td>富邦上証反1</td>\n",
       "      <td>150,000</td>\n",
       "      <td>30</td>\n",
       "      <td>722,270</td>\n",
       "      <td>4.81</td>\n",
       "      <td>4.830000</td>\n",
       "      <td>4.80</td>\n",
       "      <td>4.80</td>\n",
       "      <td>NaN</td>\n",
       "      <td>0.00</td>\n",
       "      <td>4.80</td>\n",
       "      <td>774</td>\n",
       "      <td>4.82</td>\n",
       "      <td>499</td>\n",
       "      <td>0.00</td>\n",
       "    </tr>\n",
       "    <tr>\n",
       "      <th>29</th>\n",
       "      <td>00643K</td>\n",
       "      <td>群益深証中小+R</td>\n",
       "      <td>0</td>\n",
       "      <td>0</td>\n",
       "      <td>0</td>\n",
       "      <td>--</td>\n",
       "      <td>NaN</td>\n",
       "      <td>--</td>\n",
       "      <td>--</td>\n",
       "      <td>NaN</td>\n",
       "      <td>0.00</td>\n",
       "      <td>2.50</td>\n",
       "      <td>2</td>\n",
       "      <td>2.56</td>\n",
       "      <td>1</td>\n",
       "      <td>0.00</td>\n",
       "    </tr>\n",
       "    <tr>\n",
       "      <th>72</th>\n",
       "      <td>00700</td>\n",
       "      <td>富邦恒生國企</td>\n",
       "      <td>770,208</td>\n",
       "      <td>249</td>\n",
       "      <td>8,586,725</td>\n",
       "      <td>11.19</td>\n",
       "      <td>11.240000</td>\n",
       "      <td>11.08</td>\n",
       "      <td>11.21</td>\n",
       "      <td>NaN</td>\n",
       "      <td>0.00</td>\n",
       "      <td>11.21</td>\n",
       "      <td>6</td>\n",
       "      <td>11.22</td>\n",
       "      <td>3</td>\n",
       "      <td>0.00</td>\n",
       "    </tr>\n",
       "    <tr>\n",
       "      <th>...</th>\n",
       "      <td>...</td>\n",
       "      <td>...</td>\n",
       "      <td>...</td>\n",
       "      <td>...</td>\n",
       "      <td>...</td>\n",
       "      <td>...</td>\n",
       "      <td>...</td>\n",
       "      <td>...</td>\n",
       "      <td>...</td>\n",
       "      <td>...</td>\n",
       "      <td>...</td>\n",
       "      <td>...</td>\n",
       "      <td>...</td>\n",
       "      <td>...</td>\n",
       "      <td>...</td>\n",
       "      <td>...</td>\n",
       "    </tr>\n",
       "    <tr>\n",
       "      <th>1188</th>\n",
       "      <td>9902</td>\n",
       "      <td>台火</td>\n",
       "      <td>144,065</td>\n",
       "      <td>103</td>\n",
       "      <td>1,856,854</td>\n",
       "      <td>12.90</td>\n",
       "      <td>13.000000</td>\n",
       "      <td>12.85</td>\n",
       "      <td>12.90</td>\n",
       "      <td>NaN</td>\n",
       "      <td>0.00</td>\n",
       "      <td>12.90</td>\n",
       "      <td>7</td>\n",
       "      <td>12.95</td>\n",
       "      <td>8</td>\n",
       "      <td>61.43</td>\n",
       "    </tr>\n",
       "    <tr>\n",
       "      <th>1203</th>\n",
       "      <td>9925</td>\n",
       "      <td>新保</td>\n",
       "      <td>340,783</td>\n",
       "      <td>203</td>\n",
       "      <td>13,681,173</td>\n",
       "      <td>40.10</td>\n",
       "      <td>40.200001</td>\n",
       "      <td>40.10</td>\n",
       "      <td>40.15</td>\n",
       "      <td>NaN</td>\n",
       "      <td>0.00</td>\n",
       "      <td>40.15</td>\n",
       "      <td>2</td>\n",
       "      <td>40.20</td>\n",
       "      <td>14</td>\n",
       "      <td>16.66</td>\n",
       "    </tr>\n",
       "    <tr>\n",
       "      <th>1209</th>\n",
       "      <td>9931</td>\n",
       "      <td>欣高</td>\n",
       "      <td>186</td>\n",
       "      <td>9</td>\n",
       "      <td>7,063</td>\n",
       "      <td>--</td>\n",
       "      <td>NaN</td>\n",
       "      <td>--</td>\n",
       "      <td>--</td>\n",
       "      <td>NaN</td>\n",
       "      <td>0.00</td>\n",
       "      <td>38.50</td>\n",
       "      <td>2</td>\n",
       "      <td>38.95</td>\n",
       "      <td>1</td>\n",
       "      <td>29.84</td>\n",
       "    </tr>\n",
       "    <tr>\n",
       "      <th>1218</th>\n",
       "      <td>9941A</td>\n",
       "      <td>裕融甲特</td>\n",
       "      <td>77,070</td>\n",
       "      <td>19</td>\n",
       "      <td>3,861,307</td>\n",
       "      <td>50.10</td>\n",
       "      <td>50.200001</td>\n",
       "      <td>50.10</td>\n",
       "      <td>50.10</td>\n",
       "      <td>NaN</td>\n",
       "      <td>0.00</td>\n",
       "      <td>50.00</td>\n",
       "      <td>47</td>\n",
       "      <td>50.10</td>\n",
       "      <td>7</td>\n",
       "      <td>0.00</td>\n",
       "    </tr>\n",
       "    <tr>\n",
       "      <th>1220</th>\n",
       "      <td>9943</td>\n",
       "      <td>好樂迪</td>\n",
       "      <td>226,388</td>\n",
       "      <td>206</td>\n",
       "      <td>20,369,027</td>\n",
       "      <td>89.80</td>\n",
       "      <td>90.300003</td>\n",
       "      <td>89.70</td>\n",
       "      <td>89.80</td>\n",
       "      <td>NaN</td>\n",
       "      <td>0.00</td>\n",
       "      <td>89.70</td>\n",
       "      <td>8</td>\n",
       "      <td>89.80</td>\n",
       "      <td>1</td>\n",
       "      <td>13.99</td>\n",
       "    </tr>\n",
       "  </tbody>\n",
       "</table>\n",
       "<p>127 rows × 16 columns</p>\n",
       "</div>"
      ],
      "text/plain": [
       "        證券代號      證券名稱     成交股數 成交筆數        成交金額    開盤價        最高價    最低價  \\\n",
       "12    006207      復華滬深  568,317  188  12,255,599  21.51  21.709999  21.51   \n",
       "14    00625K    富邦上証+R        0    0           0     --        NaN     --   \n",
       "18    00634R    富邦上証反1  150,000   30     722,270   4.81   4.830000   4.80   \n",
       "29    00643K  群益深証中小+R        0    0           0     --        NaN     --   \n",
       "72     00700    富邦恒生國企  770,208  249   8,586,725  11.19  11.240000  11.08   \n",
       "...      ...       ...      ...  ...         ...    ...        ...    ...   \n",
       "1188    9902        台火  144,065  103   1,856,854  12.90  13.000000  12.85   \n",
       "1203    9925        新保  340,783  203  13,681,173  40.10  40.200001  40.10   \n",
       "1209    9931        欣高      186    9       7,063     --        NaN     --   \n",
       "1218   9941A      裕融甲特   77,070   19   3,861,307  50.10  50.200001  50.10   \n",
       "1220    9943       好樂迪  226,388  206  20,369,027  89.80  90.300003  89.70   \n",
       "\n",
       "        收盤價 漲跌(+/-)  漲跌價差 最後揭示買價 最後揭示買量 最後揭示賣價 最後揭示賣量    本益比  \n",
       "12    21.71     NaN  0.00  21.71      1  21.72    155   0.00  \n",
       "14       --     NaN  0.00   6.54      5   6.59      5   0.00  \n",
       "18     4.80     NaN  0.00   4.80    774   4.82    499   0.00  \n",
       "29       --     NaN  0.00   2.50      2   2.56      1   0.00  \n",
       "72    11.21     NaN  0.00  11.21      6  11.22      3   0.00  \n",
       "...     ...     ...   ...    ...    ...    ...    ...    ...  \n",
       "1188  12.90     NaN  0.00  12.90      7  12.95      8  61.43  \n",
       "1203  40.15     NaN  0.00  40.15      2  40.20     14  16.66  \n",
       "1209     --     NaN  0.00  38.50      2  38.95      1  29.84  \n",
       "1218  50.10     NaN  0.00  50.00     47  50.10      7   0.00  \n",
       "1220  89.80     NaN  0.00  89.70      8  89.80      1  13.99  \n",
       "\n",
       "[127 rows x 16 columns]"
      ]
     },
     "execution_count": 86,
     "metadata": {},
     "output_type": "execute_result"
    }
   ],
   "source": [
    "stock[stock['漲跌(+/-)'].isnull()]"
   ]
  },
  {
   "cell_type": "code",
   "execution_count": 87,
   "metadata": {},
   "outputs": [
    {
     "data": {
      "text/plain": [
       "1099"
      ]
     },
     "execution_count": 87,
     "metadata": {},
     "output_type": "execute_result"
    }
   ],
   "source": [
    "stock['漲跌(+/-)'].notnull().sum()"
   ]
  },
  {
   "cell_type": "code",
   "execution_count": 89,
   "metadata": {},
   "outputs": [
    {
     "data": {
      "text/html": [
       "<div>\n",
       "<style scoped>\n",
       "    .dataframe tbody tr th:only-of-type {\n",
       "        vertical-align: middle;\n",
       "    }\n",
       "\n",
       "    .dataframe tbody tr th {\n",
       "        vertical-align: top;\n",
       "    }\n",
       "\n",
       "    .dataframe thead th {\n",
       "        text-align: right;\n",
       "    }\n",
       "</style>\n",
       "<table border=\"1\" class=\"dataframe\">\n",
       "  <thead>\n",
       "    <tr style=\"text-align: right;\">\n",
       "      <th></th>\n",
       "      <th>證券代號</th>\n",
       "      <th>證券名稱</th>\n",
       "      <th>成交股數</th>\n",
       "      <th>成交筆數</th>\n",
       "      <th>成交金額</th>\n",
       "      <th>開盤價</th>\n",
       "      <th>最高價</th>\n",
       "      <th>最低價</th>\n",
       "      <th>收盤價</th>\n",
       "      <th>漲跌(+/-)</th>\n",
       "      <th>漲跌價差</th>\n",
       "      <th>最後揭示買價</th>\n",
       "      <th>最後揭示買量</th>\n",
       "      <th>最後揭示賣價</th>\n",
       "      <th>最後揭示賣量</th>\n",
       "      <th>本益比</th>\n",
       "    </tr>\n",
       "  </thead>\n",
       "  <tbody>\n",
       "    <tr>\n",
       "      <th>0</th>\n",
       "      <td>0050</td>\n",
       "      <td>元大台灣50</td>\n",
       "      <td>6,507,934</td>\n",
       "      <td>10,372</td>\n",
       "      <td>933,504,679</td>\n",
       "      <td>143.95</td>\n",
       "      <td>144.199997</td>\n",
       "      <td>142.65</td>\n",
       "      <td>143.35</td>\n",
       "      <td>False</td>\n",
       "      <td>0.60</td>\n",
       "      <td>143.30</td>\n",
       "      <td>7</td>\n",
       "      <td>143.35</td>\n",
       "      <td>40</td>\n",
       "      <td>0.00</td>\n",
       "    </tr>\n",
       "    <tr>\n",
       "      <th>1</th>\n",
       "      <td>0051</td>\n",
       "      <td>元大中型100</td>\n",
       "      <td>57,037</td>\n",
       "      <td>268</td>\n",
       "      <td>4,344,737</td>\n",
       "      <td>76.65</td>\n",
       "      <td>77.000000</td>\n",
       "      <td>75.55</td>\n",
       "      <td>76.15</td>\n",
       "      <td>False</td>\n",
       "      <td>0.35</td>\n",
       "      <td>76.15</td>\n",
       "      <td>1</td>\n",
       "      <td>76.20</td>\n",
       "      <td>31</td>\n",
       "      <td>0.00</td>\n",
       "    </tr>\n",
       "    <tr>\n",
       "      <th>2</th>\n",
       "      <td>0052</td>\n",
       "      <td>富邦科技</td>\n",
       "      <td>718,096</td>\n",
       "      <td>675</td>\n",
       "      <td>103,446,258</td>\n",
       "      <td>145.30</td>\n",
       "      <td>145.300003</td>\n",
       "      <td>143.20</td>\n",
       "      <td>144.30</td>\n",
       "      <td>False</td>\n",
       "      <td>0.75</td>\n",
       "      <td>144.30</td>\n",
       "      <td>27</td>\n",
       "      <td>144.40</td>\n",
       "      <td>18</td>\n",
       "      <td>0.00</td>\n",
       "    </tr>\n",
       "    <tr>\n",
       "      <th>3</th>\n",
       "      <td>0053</td>\n",
       "      <td>元大電子</td>\n",
       "      <td>10,526</td>\n",
       "      <td>84</td>\n",
       "      <td>824,634</td>\n",
       "      <td>78.65</td>\n",
       "      <td>78.650002</td>\n",
       "      <td>78.25</td>\n",
       "      <td>78.30</td>\n",
       "      <td>False</td>\n",
       "      <td>0.35</td>\n",
       "      <td>78.25</td>\n",
       "      <td>1</td>\n",
       "      <td>78.45</td>\n",
       "      <td>23</td>\n",
       "      <td>0.00</td>\n",
       "    </tr>\n",
       "    <tr>\n",
       "      <th>4</th>\n",
       "      <td>0055</td>\n",
       "      <td>元大MSCI金融</td>\n",
       "      <td>227,513</td>\n",
       "      <td>270</td>\n",
       "      <td>5,408,153</td>\n",
       "      <td>23.80</td>\n",
       "      <td>23.889999</td>\n",
       "      <td>23.71</td>\n",
       "      <td>23.75</td>\n",
       "      <td>False</td>\n",
       "      <td>0.05</td>\n",
       "      <td>23.74</td>\n",
       "      <td>1</td>\n",
       "      <td>23.75</td>\n",
       "      <td>8</td>\n",
       "      <td>0.00</td>\n",
       "    </tr>\n",
       "    <tr>\n",
       "      <th>5</th>\n",
       "      <td>0056</td>\n",
       "      <td>元大高股息</td>\n",
       "      <td>22,779,907</td>\n",
       "      <td>17,409</td>\n",
       "      <td>855,248,893</td>\n",
       "      <td>37.68</td>\n",
       "      <td>37.830002</td>\n",
       "      <td>37.25</td>\n",
       "      <td>37.51</td>\n",
       "      <td>False</td>\n",
       "      <td>0.17</td>\n",
       "      <td>37.51</td>\n",
       "      <td>31</td>\n",
       "      <td>37.52</td>\n",
       "      <td>2</td>\n",
       "      <td>0.00</td>\n",
       "    </tr>\n",
       "    <tr>\n",
       "      <th>6</th>\n",
       "      <td>0057</td>\n",
       "      <td>富邦摩台</td>\n",
       "      <td>14,018</td>\n",
       "      <td>105</td>\n",
       "      <td>1,504,493</td>\n",
       "      <td>107.75</td>\n",
       "      <td>107.900002</td>\n",
       "      <td>106.65</td>\n",
       "      <td>106.95</td>\n",
       "      <td>False</td>\n",
       "      <td>0.60</td>\n",
       "      <td>107.00</td>\n",
       "      <td>25</td>\n",
       "      <td>107.25</td>\n",
       "      <td>20</td>\n",
       "      <td>0.00</td>\n",
       "    </tr>\n",
       "    <tr>\n",
       "      <th>7</th>\n",
       "      <td>0061</td>\n",
       "      <td>元大寶滬深</td>\n",
       "      <td>457,635</td>\n",
       "      <td>201</td>\n",
       "      <td>7,562,068</td>\n",
       "      <td>16.58</td>\n",
       "      <td>16.610001</td>\n",
       "      <td>16.45</td>\n",
       "      <td>16.56</td>\n",
       "      <td>True</td>\n",
       "      <td>0.05</td>\n",
       "      <td>16.55</td>\n",
       "      <td>4</td>\n",
       "      <td>16.56</td>\n",
       "      <td>3</td>\n",
       "      <td>0.00</td>\n",
       "    </tr>\n",
       "    <tr>\n",
       "      <th>8</th>\n",
       "      <td>006203</td>\n",
       "      <td>元大MSCI台灣</td>\n",
       "      <td>6,301</td>\n",
       "      <td>64</td>\n",
       "      <td>435,791</td>\n",
       "      <td>69.30</td>\n",
       "      <td>69.300003</td>\n",
       "      <td>69.00</td>\n",
       "      <td>69.00</td>\n",
       "      <td>False</td>\n",
       "      <td>0.30</td>\n",
       "      <td>68.70</td>\n",
       "      <td>1</td>\n",
       "      <td>69.00</td>\n",
       "      <td>1</td>\n",
       "      <td>0.00</td>\n",
       "    </tr>\n",
       "    <tr>\n",
       "      <th>9</th>\n",
       "      <td>006204</td>\n",
       "      <td>永豐臺灣加權</td>\n",
       "      <td>4,876</td>\n",
       "      <td>96</td>\n",
       "      <td>457,604</td>\n",
       "      <td>93.75</td>\n",
       "      <td>93.750000</td>\n",
       "      <td>93.75</td>\n",
       "      <td>93.75</td>\n",
       "      <td>False</td>\n",
       "      <td>0.40</td>\n",
       "      <td>93.35</td>\n",
       "      <td>50</td>\n",
       "      <td>93.75</td>\n",
       "      <td>32</td>\n",
       "      <td>0.00</td>\n",
       "    </tr>\n",
       "  </tbody>\n",
       "</table>\n",
       "</div>"
      ],
      "text/plain": [
       "     證券代號      證券名稱        成交股數    成交筆數         成交金額     開盤價         最高價  \\\n",
       "0    0050    元大台灣50   6,507,934  10,372  933,504,679  143.95  144.199997   \n",
       "1    0051   元大中型100      57,037     268    4,344,737   76.65   77.000000   \n",
       "2    0052      富邦科技     718,096     675  103,446,258  145.30  145.300003   \n",
       "3    0053      元大電子      10,526      84      824,634   78.65   78.650002   \n",
       "4    0055  元大MSCI金融     227,513     270    5,408,153   23.80   23.889999   \n",
       "5    0056     元大高股息  22,779,907  17,409  855,248,893   37.68   37.830002   \n",
       "6    0057      富邦摩台      14,018     105    1,504,493  107.75  107.900002   \n",
       "7    0061     元大寶滬深     457,635     201    7,562,068   16.58   16.610001   \n",
       "8  006203  元大MSCI台灣       6,301      64      435,791   69.30   69.300003   \n",
       "9  006204    永豐臺灣加權       4,876      96      457,604   93.75   93.750000   \n",
       "\n",
       "      最低價     收盤價 漲跌(+/-)  漲跌價差  最後揭示買價 最後揭示買量  最後揭示賣價 最後揭示賣量   本益比  \n",
       "0  142.65  143.35   False  0.60  143.30      7  143.35     40  0.00  \n",
       "1   75.55   76.15   False  0.35   76.15      1   76.20     31  0.00  \n",
       "2  143.20  144.30   False  0.75  144.30     27  144.40     18  0.00  \n",
       "3   78.25   78.30   False  0.35   78.25      1   78.45     23  0.00  \n",
       "4   23.71   23.75   False  0.05   23.74      1   23.75      8  0.00  \n",
       "5   37.25   37.51   False  0.17   37.51     31   37.52      2  0.00  \n",
       "6  106.65  106.95   False  0.60  107.00     25  107.25     20  0.00  \n",
       "7   16.45   16.56    True  0.05   16.55      4   16.56      3  0.00  \n",
       "8   69.00   69.00   False  0.30   68.70      1   69.00      1  0.00  \n",
       "9   93.75   93.75   False  0.40   93.35     50   93.75     32  0.00  "
      ]
     },
     "execution_count": 89,
     "metadata": {},
     "output_type": "execute_result"
    }
   ],
   "source": [
    "stock[stock['漲跌(+/-)'].notnull()].head(10)"
   ]
  },
  {
   "cell_type": "markdown",
   "metadata": {},
   "source": [
    "## apply介紹\n",
    "### 使用apply將函式套用在所有資料上\n",
    "#### 上表中我們發現資料集中還是有很多不能直接轉換為數值的字串( 例如超過1000元有含有\"',\"的符號  1,000 )\n",
    "#### 透過apply一次將所有可轉為數值的資料進行轉換。"
   ]
  },
  {
   "cell_type": "code",
   "execution_count": 93,
   "metadata": {
    "scrolled": false
   },
   "outputs": [
    {
     "data": {
      "text/html": [
       "<div>\n",
       "<style scoped>\n",
       "    .dataframe tbody tr th:only-of-type {\n",
       "        vertical-align: middle;\n",
       "    }\n",
       "\n",
       "    .dataframe tbody tr th {\n",
       "        vertical-align: top;\n",
       "    }\n",
       "\n",
       "    .dataframe thead th {\n",
       "        text-align: right;\n",
       "    }\n",
       "</style>\n",
       "<table border=\"1\" class=\"dataframe\">\n",
       "  <thead>\n",
       "    <tr style=\"text-align: right;\">\n",
       "      <th></th>\n",
       "      <th>成交股數</th>\n",
       "      <th>成交筆數</th>\n",
       "      <th>成交金額</th>\n",
       "      <th>開盤價</th>\n",
       "      <th>最高價</th>\n",
       "      <th>最低價</th>\n",
       "      <th>收盤價</th>\n",
       "    </tr>\n",
       "  </thead>\n",
       "  <tbody>\n",
       "    <tr>\n",
       "      <th>0</th>\n",
       "      <td>6,507,934</td>\n",
       "      <td>10,372</td>\n",
       "      <td>933,504,679</td>\n",
       "      <td>143.95</td>\n",
       "      <td>144.199997</td>\n",
       "      <td>142.65</td>\n",
       "      <td>143.35</td>\n",
       "    </tr>\n",
       "    <tr>\n",
       "      <th>1</th>\n",
       "      <td>57,037</td>\n",
       "      <td>268</td>\n",
       "      <td>4,344,737</td>\n",
       "      <td>76.65</td>\n",
       "      <td>77.000000</td>\n",
       "      <td>75.55</td>\n",
       "      <td>76.15</td>\n",
       "    </tr>\n",
       "    <tr>\n",
       "      <th>2</th>\n",
       "      <td>718,096</td>\n",
       "      <td>675</td>\n",
       "      <td>103,446,258</td>\n",
       "      <td>145.30</td>\n",
       "      <td>145.300003</td>\n",
       "      <td>143.20</td>\n",
       "      <td>144.30</td>\n",
       "    </tr>\n",
       "    <tr>\n",
       "      <th>3</th>\n",
       "      <td>10,526</td>\n",
       "      <td>84</td>\n",
       "      <td>824,634</td>\n",
       "      <td>78.65</td>\n",
       "      <td>78.650002</td>\n",
       "      <td>78.25</td>\n",
       "      <td>78.30</td>\n",
       "    </tr>\n",
       "    <tr>\n",
       "      <th>4</th>\n",
       "      <td>227,513</td>\n",
       "      <td>270</td>\n",
       "      <td>5,408,153</td>\n",
       "      <td>23.80</td>\n",
       "      <td>23.889999</td>\n",
       "      <td>23.71</td>\n",
       "      <td>23.75</td>\n",
       "    </tr>\n",
       "  </tbody>\n",
       "</table>\n",
       "</div>"
      ],
      "text/plain": [
       "        成交股數    成交筆數         成交金額     開盤價         最高價     最低價     收盤價\n",
       "0  6,507,934  10,372  933,504,679  143.95  144.199997  142.65  143.35\n",
       "1     57,037     268    4,344,737   76.65   77.000000   75.55   76.15\n",
       "2    718,096     675  103,446,258  145.30  145.300003  143.20  144.30\n",
       "3     10,526      84      824,634   78.65   78.650002   78.25   78.30\n",
       "4    227,513     270    5,408,153   23.80   23.889999   23.71   23.75"
      ]
     },
     "execution_count": 93,
     "metadata": {},
     "output_type": "execute_result"
    }
   ],
   "source": [
    "data = stock.loc[:, \"成交股數\" : \"收盤價\"]\n",
    "data.head()"
   ]
  },
  {
   "cell_type": "markdown",
   "metadata": {},
   "source": [
    "#### replace 參數regex=true 使用正則表達式搜尋並且取代"
   ]
  },
  {
   "cell_type": "code",
   "execution_count": 91,
   "metadata": {
    "scrolled": true
   },
   "outputs": [
    {
     "data": {
      "text/html": [
       "<div>\n",
       "<style scoped>\n",
       "    .dataframe tbody tr th:only-of-type {\n",
       "        vertical-align: middle;\n",
       "    }\n",
       "\n",
       "    .dataframe tbody tr th {\n",
       "        vertical-align: top;\n",
       "    }\n",
       "\n",
       "    .dataframe thead th {\n",
       "        text-align: right;\n",
       "    }\n",
       "</style>\n",
       "<table border=\"1\" class=\"dataframe\">\n",
       "  <thead>\n",
       "    <tr style=\"text-align: right;\">\n",
       "      <th></th>\n",
       "      <th>成交股數</th>\n",
       "      <th>成交筆數</th>\n",
       "      <th>成交金額</th>\n",
       "      <th>開盤價</th>\n",
       "      <th>最高價</th>\n",
       "      <th>最低價</th>\n",
       "      <th>收盤價</th>\n",
       "    </tr>\n",
       "  </thead>\n",
       "  <tbody>\n",
       "    <tr>\n",
       "      <th>0</th>\n",
       "      <td>6507934</td>\n",
       "      <td>10372</td>\n",
       "      <td>933504679</td>\n",
       "      <td>143.95</td>\n",
       "      <td>144.199997</td>\n",
       "      <td>142.65</td>\n",
       "      <td>143.35</td>\n",
       "    </tr>\n",
       "    <tr>\n",
       "      <th>1</th>\n",
       "      <td>57037</td>\n",
       "      <td>268</td>\n",
       "      <td>4344737</td>\n",
       "      <td>76.65</td>\n",
       "      <td>77.000000</td>\n",
       "      <td>75.55</td>\n",
       "      <td>76.15</td>\n",
       "    </tr>\n",
       "    <tr>\n",
       "      <th>2</th>\n",
       "      <td>718096</td>\n",
       "      <td>675</td>\n",
       "      <td>103446258</td>\n",
       "      <td>145.30</td>\n",
       "      <td>145.300003</td>\n",
       "      <td>143.20</td>\n",
       "      <td>144.30</td>\n",
       "    </tr>\n",
       "    <tr>\n",
       "      <th>3</th>\n",
       "      <td>10526</td>\n",
       "      <td>84</td>\n",
       "      <td>824634</td>\n",
       "      <td>78.65</td>\n",
       "      <td>78.650002</td>\n",
       "      <td>78.25</td>\n",
       "      <td>78.30</td>\n",
       "    </tr>\n",
       "    <tr>\n",
       "      <th>4</th>\n",
       "      <td>227513</td>\n",
       "      <td>270</td>\n",
       "      <td>5408153</td>\n",
       "      <td>23.80</td>\n",
       "      <td>23.889999</td>\n",
       "      <td>23.71</td>\n",
       "      <td>23.75</td>\n",
       "    </tr>\n",
       "  </tbody>\n",
       "</table>\n",
       "</div>"
      ],
      "text/plain": [
       "      成交股數   成交筆數       成交金額     開盤價         最高價     最低價     收盤價\n",
       "0  6507934  10372  933504679  143.95  144.199997  142.65  143.35\n",
       "1    57037    268    4344737   76.65   77.000000   75.55   76.15\n",
       "2   718096    675  103446258  145.30  145.300003  143.20  144.30\n",
       "3    10526     84     824634   78.65   78.650002   78.25   78.30\n",
       "4   227513    270    5408153   23.80   23.889999   23.71   23.75"
      ]
     },
     "execution_count": 91,
     "metadata": {},
     "output_type": "execute_result"
    }
   ],
   "source": [
    "replace_map = {\",\":\"\", \"--\":np.nan}\n",
    "data = data.replace(replace_map, regex=True)\n",
    "data.head()"
   ]
  },
  {
   "cell_type": "code",
   "execution_count": 97,
   "metadata": {
    "scrolled": false
   },
   "outputs": [
    {
     "data": {
      "text/html": [
       "<div>\n",
       "<style scoped>\n",
       "    .dataframe tbody tr th:only-of-type {\n",
       "        vertical-align: middle;\n",
       "    }\n",
       "\n",
       "    .dataframe tbody tr th {\n",
       "        vertical-align: top;\n",
       "    }\n",
       "\n",
       "    .dataframe thead th {\n",
       "        text-align: right;\n",
       "    }\n",
       "</style>\n",
       "<table border=\"1\" class=\"dataframe\">\n",
       "  <thead>\n",
       "    <tr style=\"text-align: right;\">\n",
       "      <th></th>\n",
       "      <th>成交股數</th>\n",
       "      <th>成交筆數</th>\n",
       "      <th>成交金額</th>\n",
       "      <th>開盤價</th>\n",
       "      <th>最高價</th>\n",
       "      <th>最低價</th>\n",
       "      <th>收盤價</th>\n",
       "    </tr>\n",
       "  </thead>\n",
       "  <tbody>\n",
       "    <tr>\n",
       "      <th>0</th>\n",
       "      <td>NaN</td>\n",
       "      <td>NaN</td>\n",
       "      <td>NaN</td>\n",
       "      <td>143.95</td>\n",
       "      <td>144.199997</td>\n",
       "      <td>142.65</td>\n",
       "      <td>143.35</td>\n",
       "    </tr>\n",
       "    <tr>\n",
       "      <th>1</th>\n",
       "      <td>NaN</td>\n",
       "      <td>268.0</td>\n",
       "      <td>NaN</td>\n",
       "      <td>76.65</td>\n",
       "      <td>77.000000</td>\n",
       "      <td>75.55</td>\n",
       "      <td>76.15</td>\n",
       "    </tr>\n",
       "    <tr>\n",
       "      <th>2</th>\n",
       "      <td>NaN</td>\n",
       "      <td>675.0</td>\n",
       "      <td>NaN</td>\n",
       "      <td>145.30</td>\n",
       "      <td>145.300003</td>\n",
       "      <td>143.20</td>\n",
       "      <td>144.30</td>\n",
       "    </tr>\n",
       "    <tr>\n",
       "      <th>3</th>\n",
       "      <td>NaN</td>\n",
       "      <td>84.0</td>\n",
       "      <td>NaN</td>\n",
       "      <td>78.65</td>\n",
       "      <td>78.650002</td>\n",
       "      <td>78.25</td>\n",
       "      <td>78.30</td>\n",
       "    </tr>\n",
       "    <tr>\n",
       "      <th>4</th>\n",
       "      <td>NaN</td>\n",
       "      <td>270.0</td>\n",
       "      <td>NaN</td>\n",
       "      <td>23.80</td>\n",
       "      <td>23.889999</td>\n",
       "      <td>23.71</td>\n",
       "      <td>23.75</td>\n",
       "    </tr>\n",
       "  </tbody>\n",
       "</table>\n",
       "</div>"
      ],
      "text/plain": [
       "   成交股數   成交筆數  成交金額     開盤價         最高價     最低價     收盤價\n",
       "0   NaN    NaN   NaN  143.95  144.199997  142.65  143.35\n",
       "1   NaN  268.0   NaN   76.65   77.000000   75.55   76.15\n",
       "2   NaN  675.0   NaN  145.30  145.300003  143.20  144.30\n",
       "3   NaN   84.0   NaN   78.65   78.650002   78.25   78.30\n",
       "4   NaN  270.0   NaN   23.80   23.889999   23.71   23.75"
      ]
     },
     "execution_count": 97,
     "metadata": {},
     "output_type": "execute_result"
    }
   ],
   "source": [
    "data = data.apply(pd.to_numeric, errors='coerce') #errors為to_numeric之參數\n",
    "data.head()"
   ]
  },
  {
   "cell_type": "markdown",
   "metadata": {},
   "source": [
    "## 練習: 請問2024/3/18日台灣股市收盤價每一股超過1000元的股票有幾家公司? 這幾家每股超過1000元的平均收盤價是多少? 目前股王是哪一家公司? "
   ]
  },
  {
   "cell_type": "code",
   "execution_count": null,
   "metadata": {},
   "outputs": [],
   "source": []
  }
 ],
 "metadata": {
  "kernelspec": {
   "display_name": "Python 3 (ipykernel)",
   "language": "python",
   "name": "python3"
  },
  "language_info": {
   "codemirror_mode": {
    "name": "ipython",
    "version": 3
   },
   "file_extension": ".py",
   "mimetype": "text/x-python",
   "name": "python",
   "nbconvert_exporter": "python",
   "pygments_lexer": "ipython3",
   "version": "3.11.5"
  }
 },
 "nbformat": 4,
 "nbformat_minor": 2
}
