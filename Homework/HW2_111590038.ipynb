{
 "cells": [
  {
   "cell_type": "markdown",
   "metadata": {},
   "source": [
    "# 2024-Spring Data Science Homework 2\n",
    "## Due: 2024/03/26 23:59\n",
    "### ID: 111590038\n",
    "### Name: 卓柏辰 "
   ]
  },
  {
   "cell_type": "markdown",
   "metadata": {},
   "source": [
    "### Problem1: \n",
    "參考Lab3，請用pandas分析2024/03/11股市的開盤價和收盤價的平均值和標準差。"
   ]
  },
  {
   "cell_type": "code",
   "execution_count": 11,
   "metadata": {},
   "outputs": [
    {
     "name": "stdout",
     "output_type": "stream",
     "text": [
      "Mean 當日開盤價: 83.86246721311475\n",
      "Standard 當日開盤價: 205.65743604009032\n",
      "----------------------\n",
      "Mean 當日收盤價: 84.33819672131148\n",
      "Standard 當日收盤價: 205.7090005473253\n"
     ]
    }
   ],
   "source": [
    "import requests\n",
    "import numpy as np\n",
    "import pandas as pd\n",
    "\n",
    "date = \"20240311\"\n",
    "url = f'https://www.twse.com.tw/exchangeReport/MI_INDEX?response=json&date={date}&type=ALLBUT0999'\n",
    "req = requests.get(url)\n",
    "reqJson = req.json()\n",
    "stockData = pd.DataFrame(reqJson['data9'], columns = reqJson['fields9'])\n",
    "dayStartprice = stockData.loc[:, '開盤價']\n",
    "dayEndprice = stockData.loc[:,'收盤價']\n",
    "\n",
    "replace_map = {\",\" : \"\", \"--\" : np.nan}\n",
    "dayStartprice = dayStartprice.replace(replace_map, regex = True).astype(float)\n",
    "dayEndprice = dayEndprice.replace(replace_map, regex=True).astype(float)\n",
    "print(f\"Mean 當日開盤價: {dayStartprice.mean()}\")\n",
    "print(f\"Standard 當日開盤價: {dayStartprice.std()}\")\n",
    "print(\"----------------------\")\n",
    "print(f\"Mean 當日收盤價: {dayEndprice.mean()}\")\n",
    "print(f\"Standard 當日收盤價: {dayEndprice.std()}\")"
   ]
  },
  {
   "cell_type": "markdown",
   "metadata": {},
   "source": [
    "### Problem2:\n",
    "參考Lab4:\n",
    "- 請問2024/3/18日台灣股市收盤價每一股超過1000元的股票有幾家公司? \n",
    "- 這幾家每股超過1000元的平均收盤價是多少? \n",
    "- 目前股王是哪一家公司? "
   ]
  },
  {
   "cell_type": "code",
   "execution_count": 13,
   "metadata": {},
   "outputs": [
    {
     "name": "stdout",
     "output_type": "stream",
     "text": [
      "共有 10 家超過1000元\n",
      "元大台灣50\n",
      "元大中型100\n",
      "富邦科技\n",
      "元大電子\n",
      "元大MSCI金融\n",
      "元大高股息\n",
      "富邦摩台\n",
      "元大寶滬深\n",
      "元大MSCI台灣\n",
      "永豐臺灣加權\n",
      "----------------------\n",
      "平均收盤價： 1862.5\n",
      "----------------------\n",
      "股王的詳細資料：\n",
      "證券代號             3661\n",
      "證券名稱            世芯-KY\n",
      "成交股數        1,221,710\n",
      "成交筆數            3,437\n",
      "成交金額    4,454,236,930\n",
      "開盤價          3,650.00\n",
      "最高價          3,675.00\n",
      "最低價          3,600.00\n",
      "收盤價          3,665.00\n"
     ]
    }
   ],
   "source": [
    "import requests\n",
    "import numpy as np\n",
    "import pandas as pd\n",
    "\n",
    "date = \"20240318\"\n",
    "url = f'https://www.twse.com.tw/exchangeReport/MI_INDEX?response=json&date={date}&type=ALLBUT0999'\n",
    "req = requests.get(url)\n",
    "reqJson = req.json()\n",
    "stockData = pd.DataFrame(reqJson['data9'], columns = reqJson['fields9'])\n",
    "dayStartprice = stockData.loc[:, '開盤價']\n",
    "dayEndprice = stockData.loc[:,'收盤價']\n",
    "\n",
    "replace_map = {\",\" : \"\", \"--\" : np.nan}\n",
    "dayStartprice = dayStartprice.replace(replace_map, regex = True).astype(float)\n",
    "dayEndprice = dayEndprice.replace(replace_map, regex=True).astype(float)\n",
    "\n",
    "indexList = dayEndprice[dayEndprice >= 1000].index\n",
    "ansList = np.array([dayEndprice[i] for i in indexList])\n",
    "companyName = \"\"\n",
    "maxValue, maxIndex = -1, -1\n",
    "\n",
    "for index, price in enumerate(ansList):\n",
    "    if index != len(ansList) - 1: companyName += f\"{stockData.loc[index, '證券名稱']}\\n\"\n",
    "    else: companyName += f\"{stockData.loc[index, '證券名稱']}\"\n",
    "    if price > maxValue:\n",
    "        maxValue, maxIndex = price, index\n",
    "\n",
    "print(f\"共有 {len(indexList)} 家超過1000元\")\n",
    "print(companyName)\n",
    "print(\"----------------------\")\n",
    "print(\"平均收盤價：\", ansList.mean())\n",
    "print(\"----------------------\")\n",
    "print(\"股王的詳細資料：\")\n",
    "print(stockData.loc[indexList[maxIndex]][0:9].to_string())\n"
   ]
  }
 ],
 "metadata": {
  "kernelspec": {
   "display_name": "Python 3",
   "language": "python",
   "name": "python3"
  },
  "language_info": {
   "codemirror_mode": {
    "name": "ipython",
    "version": 3
   },
   "file_extension": ".py",
   "mimetype": "text/x-python",
   "name": "python",
   "nbconvert_exporter": "python",
   "pygments_lexer": "ipython3",
   "version": "3.11.5"
  }
 },
 "nbformat": 4,
 "nbformat_minor": 2
}
