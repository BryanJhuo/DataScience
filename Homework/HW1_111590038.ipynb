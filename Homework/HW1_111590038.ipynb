{
 "cells": [
  {
   "cell_type": "markdown",
   "metadata": {},
   "source": [
    "# Data Science Homework 1\n",
    "### ID: 111590038\n",
    "### Name: 卓柏辰 "
   ]
  },
  {
   "cell_type": "markdown",
   "metadata": {},
   "source": [
    "## Problem1: \n",
    "- (a) Draw the box-and-whisker plot of the following data in Jupyter Notebook.\n",
    "- (b) Describe the outlier/extreme values of the data set.\n",
    "- Data: 14.7, 14.4, 8.2, 10.7, 14.6, 14.1, 14.4, 14.4, 18.2, 14.5, 14.5, 14.7, 14.9, 15.1, 15.9, 25.0"
   ]
  },
  {
   "cell_type": "markdown",
   "metadata": {},
   "source": [
    "### box-and-whisker 箱形圖\n",
    "- <font color=\"orange\">下四分位數 Q1</font>: 所有數值由小排到大第25%的數值。因此會有25%的數值小於Q1，同時也會有75%的數值大於Q1。\n",
    "- <font color=\"orange\">中位數(median) Q2</font>: Data set的中間值，也就是所有數值由小排到大第50%的數值。\n",
    "- <font color=\"orange\">上四分位數 Q3</font>: 所有數值由小排到大第75%的數值，因此會有75%的數值小於Q3，同時也會有25%的數值大於Q3。\n",
    "- <font color=\"aqua\">四分位間距(interquartile range, IQR)</font>: 第25至第75個百分點，有50%的數據在IQR之間。\n",
    "- <font color=\"plum\">離群值(Outliers)</font>: 小於 <mark>Q1 - 1.5 * IQR</mark> 或者 大於  <mark>Q3 + 1.5 * IQR</mark> 的值。\n",
    "- <font color=\"plum\">極端離群值(Extreme values)</font>: 小於 <mark>Q1 - 3 * IQR</mark> 或者 大於 <mark>Q3 + 3 * IQR</mark> 的值。"
   ]
  },
  {
   "cell_type": "code",
   "execution_count": 1,
   "metadata": {},
   "outputs": [
    {
     "name": "stdout",
     "output_type": "stream",
     "text": [
      "下四分位數 Q1= 14.40\n",
      "中位數 Q2= 14.55\n",
      "上四分位數 Q3= 14.95\n",
      "四分位間距 IQR= 0.55\n"
     ]
    },
    {
     "data": {
      "image/png": "[encoded data removed]",
      "text/plain": [
       "<Figure size 500x500 with 1 Axes>"
      ]
     },
     "metadata": {},
     "output_type": "display_data"
    }
   ],
   "source": [
    "import matplotlib.pyplot as plt\n",
    "import pandas as pd\n",
    "\n",
    "data = pd.Series(sorted([14.7, 14.4, 8.2, 10.7, 14.6, 14.1, 14.4, 14.4, 18.2, 14.5, 14.5, 14.7, 14.9, 15.1, 15.9, 25.0]))\n",
    "\n",
    "fig = plt.figure(figsize= (5, 5))\n",
    "plt.boxplot(data)\n",
    "\n",
    "print(f'下四分位數 Q1= {data.quantile(0.25):.2f}')\n",
    "print(f'中位數 Q2= {data.quantile(0.5):.2f}')\n",
    "print(f'上四分位數 Q3= {data.quantile(0.75):.2f}')\n",
    "print(f'四分位間距 IQR= {data.quantile(0.75) - data.quantile(0.25):.2f}')\n",
    "plt.show()"
   ]
  },
  {
   "cell_type": "markdown",
   "metadata": {},
   "source": [
    "## Problem2: \n",
    "好的資料探勘專案都是從解決有趣的問題開始，以自己目前的背景提出一個未來可能要解決的資料探勘專案為何(發揮想像力)?可以收集的資料為何? 可能資料特徵有哪些? 可能會使用哪一種資料庫模式?"
   ]
  },
  {
   "cell_type": "markdown",
   "metadata": {},
   "source": [
    "答： 假設我的背景是健康領域相關的醫學資訊科學，我會提出一個未來可能要解決的資料探勘專案：利用手機的相機和手機的語音助理，來改善與幫助盲人或弱視人士的生活。  \n",
    "- **收集的資料：**\n",
    "1. 手機相機拍攝的圖片或影片，用於辨識周圍環境、路徑或物體。  \n",
    "2. 語音助理收集的語音指令或回答，用於了解使用者需求和回饋資訊。 \n",
    "- **可能的資料特徵：**\n",
    "1. 圖片特徵：物體辨識、路徑辨識、環境辨識等。 \n",
    "2. 語音指令分類、回饋情感分析等。 \n",
    "- **可能會使用的資料庫模式：**\n",
    "1. 影像資料：可能使用非關聯式或分散式儲存系統，以儲存大量的圖片或影片資料。 \n",
    "2. 語音資料：可能會使用關聯式資料庫，以儲存和管理語音資料及其相關的文字轉換。  \n",
    "\n",
    "這個專案的目標是通過分析手機相機和語音助理收集的資料，訓練模型來幫助盲人或弱勢人士更輕鬆地辨識周圍環境、找到路徑、辨識物體等，從而提高他們的生活品質和獨立性。例如：盲人或弱勢人士要吃藥的時候，可以利用手機的相機拍要吃的藥，再透過語音助理來告訴他們，這一顆藥是什麼；或者可以利用手機的相機拍想要讀的書籍或者需要閱讀的文件，通過語音助理來告訴他們上面所有的內容。"
   ]
  },
  {
   "cell_type": "markdown",
   "metadata": {},
   "source": [
    "## Problem 3\n",
    "Use Jupyter to write a function of calculating \"Factorial\" for an input integer \"a\".\n",
    "Add some function usage information.  \n",
    "$\n",
    "f(x)\n",
    "\\begin{cases}\n",
    "        1  \\text{, if x = 0 or x = 1}\\\\ \n",
    "        x * f(x - 1) \\text{, if x > 1}\n",
    "\\end{cases}\n",
    "$"
   ]
  },
  {
   "cell_type": "code",
   "execution_count": 2,
   "metadata": {},
   "outputs": [
    {
     "data": {
      "text/plain": [
       "120"
      ]
     },
     "execution_count": 2,
     "metadata": {},
     "output_type": "execute_result"
    }
   ],
   "source": [
    "def Factorial(n):\n",
    "    if n == 0 or n == 1:\n",
    "        return 1\n",
    "    else:\n",
    "        return n * Factorial(n - 1)\n",
    "\n",
    "a = input() \n",
    "Factorial(a)"
   ]
  }
 ],
 "metadata": {
  "kernelspec": {
   "display_name": "Python 3",
   "language": "python",
   "name": "python3"
  },
  "language_info": {
   "codemirror_mode": {
    "name": "ipython",
    "version": 3
   },
   "file_extension": ".py",
   "mimetype": "text/x-python",
   "name": "python",
   "nbconvert_exporter": "python",
   "pygments_lexer": "ipython3",
   "version": "3.11.5"
  }
 },
 "nbformat": 4,
 "nbformat_minor": 2
}
