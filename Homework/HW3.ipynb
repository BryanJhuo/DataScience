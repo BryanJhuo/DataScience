{
 "cells": [
  {
   "cell_type": "markdown",
   "metadata": {},
   "source": [
    "Please add your personal information at the first cell by \"Markdown\" selection.\n",
    "# 2024-Spring DS HW3\n",
    "## Due: 2024/04/19 23:59\n",
    "## 檔名請更為HW3_${學號}.ipynb 例如:HW3_111598084.ipynb\n"
   ]
  },
  {
   "cell_type": "markdown",
   "metadata": {},
   "source": [
    "### Problem1:\n",
    "- 請參考Lab5，繪製台積電在2023年的收盤價及開盤價的趨勢圖。\n"
   ]
  },
  {
   "cell_type": "markdown",
   "metadata": {},
   "source": [
    "### Problem2: 手寫過程在紙上後拍照用Markdown附上\n",
    "- Construct a decision tree using ID3 algorithm for the database given in the following table.\n",
    "- Please document your process and results on paper, then take a picture and post it in this file.\n",
    "\n",
    "| RID | age | income | student | credit_rating | Class: buys_computer |\n",
    "| :-: | :-: | :-: | :-: | :-: | :-: |\n",
    "| 1 | youth | high | no | fair | no |\n",
    "| 2 | youth | high | no | excellent | no |\n",
    "| 3 | middle_aged | high | no | fair | yes |\n",
    "| 4 | senior | medium | no | fair | yes |\n",
    "| 5 | senior | low | yes | fair | yes |\n",
    "| 6 | senior | low | yes | excellent | no |\n",
    "| 7 | middle_aged | low | yes | excellent | yes |\n",
    "| 8 | youth | medium | no | fair | no |\n",
    "| 9 | youth | low | yes | fair | yes |\n",
    "| 10 | senior | medium | yes | fair | yes |\n",
    "| 11 | youth | medium | yes | excellent | yes |\n",
    "| 12 | middle_aged | medium | no | excellent | yes |\n",
    "| 13 | middle_aged | high | yes | fair | yes |\n",
    "| 14 | senior | medium | no | excellent | no |"
   ]
  },
  {
   "cell_type": "markdown",
   "metadata": {},
   "source": [
    "### Problem3: 參考Lab6\n",
    "1. 請計算　台積電、聯發科和聯電　2023年的股價平均值?\n",
    "2. 請分析2023/1/1-2023/12/31期間與台積電絕對值相關度排行第5名的股票是哪一支股票？劃出這兩支股票的股價圖表 (圖表必須包含圖例、座標軸名稱、標題、大小為(7,7))"
   ]
  }
 ],
 "metadata": {
  "kernelspec": {
   "display_name": "biolabel",
   "language": "python",
   "name": "python3"
  },
  "language_info": {
   "codemirror_mode": {
    "name": "ipython",
    "version": 3
   },
   "file_extension": ".py",
   "mimetype": "text/x-python",
   "name": "python",
   "nbconvert_exporter": "python",
   "pygments_lexer": "ipython3",
   "version": "3.11.5"
  }
 },
 "nbformat": 4,
 "nbformat_minor": 2
}
