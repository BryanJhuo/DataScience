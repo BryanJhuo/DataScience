{
 "cells": [
  {
   "cell_type": "markdown",
   "metadata": {},
   "source": [
    "Please add your personal information at the first cell by \"Markdown\" selection.\n",
    "# 2024-Spring DS HW4\n",
    "## Due: 2024/05/24 23:59\n",
    "### 請自行注意期限，不接受補繳\n",
    "## 檔名請更為HW3_${學號}.ipynb 例如:HW4_111598084.ipynb\n"
   ]
  },
  {
   "cell_type": "markdown",
   "metadata": {},
   "source": [
    "### Problem1:\n",
    "- 請參考Lab9，比較並繪製金磚五國（BRICS）Covid19疫情的確診趨勢圖(至少要畫出Trajectory圖)，分別為巴西、俄羅斯、印度、中華人民共和國、南非。\n"
   ]
  },
  {
   "cell_type": "markdown",
   "metadata": {},
   "source": [
    "### Problem2: 手寫過程在紙上後拍照用Markdown附上\n",
    "- 如何使用Naïve Bayes classifier技術判斷下列表格的第八份文件(Test Document)是一份高興的文件或是不高興的文件? \n",
    "- 指定為高興(h)文件或是不高興(~h)文件的機率各自為何?\n",
    "\n",
    "| RID | type | text | \n",
    "| :-: | :-: | :-: | \n",
    "| D1 | Happy(h) | love happy happy joy smile angry |\n",
    "| D2 | Happy(h) | cry happy joy love happy |\n",
    "| D3 | Happy(h) | good happy love cry love |\n",
    "| D4 | Happy(h) | pain love happy joy love |\n",
    "| D5 | Unhappy(~h) | love angry pain pain |\n",
    "| D6 | Unhappy(~h) | love angry pain |\n",
    "| D7 | Unhappy(~h) | angry angry pain |\n",
    "| D8 | ?? | cry love angry pain |\n"
   ]
  },
  {
   "cell_type": "markdown",
   "metadata": {},
   "source": []
  }
 ],
 "metadata": {
  "kernelspec": {
   "display_name": "biolabel",
   "language": "python",
   "name": "python3"
  },
  "language_info": {
   "codemirror_mode": {
    "name": "ipython",
    "version": 3
   },
   "file_extension": ".py",
   "mimetype": "text/x-python",
   "name": "python",
   "nbconvert_exporter": "python",
   "pygments_lexer": "ipython3",
   "version": "3.11.5"
  }
 },
 "nbformat": 4,
 "nbformat_minor": 2
}
